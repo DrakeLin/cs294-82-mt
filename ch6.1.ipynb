{
 "cells": [
  {
   "cell_type": "markdown",
   "metadata": {},
   "source": [
    "### 6.1a\n",
    "Show empirically that the information limit of 2 prediction bits per parameter also holds for nearest neighbors."
   ]
  },
  {
   "cell_type": "code",
   "execution_count": 48,
   "metadata": {},
   "outputs": [
    {
     "name": "stdout",
     "output_type": "stream",
     "text": [
      "16\n",
      "d=2: n_full=4, Avg. req. points for memorization n_avg=2.50, n_full/n_avg=1.60\n",
      "256\n",
      "d=3: n_full=8, Avg. req. points for memorization n_avg=4.64, n_full/n_avg=1.72\n",
      "65536\n"
     ]
    },
    {
     "ename": "KeyboardInterrupt",
     "evalue": "",
     "output_type": "error",
     "traceback": [
      "\u001b[0;31m---------------------------------------------------------------------------\u001b[0m",
      "\u001b[0;31mKeyboardInterrupt\u001b[0m                         Traceback (most recent call last)",
      "Cell \u001b[0;32mIn[48], line 48\u001b[0m\n\u001b[1;32m     46\u001b[0m avg_mem_size \u001b[38;5;241m=\u001b[39m \u001b[38;5;241m0\u001b[39m\n\u001b[1;32m     47\u001b[0m \u001b[38;5;28;01mfor\u001b[39;00m i, y \u001b[38;5;129;01min\u001b[39;00m \u001b[38;5;28menumerate\u001b[39m(y_all):\n\u001b[0;32m---> 48\u001b[0m     mem_size \u001b[38;5;241m=\u001b[39m \u001b[43mcalculate_mem_size\u001b[49m\u001b[43m(\u001b[49m\u001b[43mX\u001b[49m\u001b[43m,\u001b[49m\u001b[43m \u001b[49m\u001b[43my\u001b[49m\u001b[43m)\u001b[49m\n\u001b[1;32m     49\u001b[0m     avg_mem_size \u001b[38;5;241m+\u001b[39m\u001b[38;5;241m=\u001b[39m mem_size\n\u001b[1;32m     50\u001b[0m avg_mem_size \u001b[38;5;241m/\u001b[39m\u001b[38;5;241m=\u001b[39m n_func\n",
      "Cell \u001b[0;32mIn[48], line 30\u001b[0m, in \u001b[0;36mcalculate_mem_size\u001b[0;34m(X, y)\u001b[0m\n\u001b[1;32m     28\u001b[0m new_y \u001b[38;5;241m=\u001b[39m np\u001b[38;5;241m.\u001b[39mdelete(currY, i)\n\u001b[1;32m     29\u001b[0m clf\u001b[38;5;241m.\u001b[39mfit(new_x, new_y)\n\u001b[0;32m---> 30\u001b[0m \u001b[38;5;28;01mif\u001b[39;00m \u001b[43mclf\u001b[49m\u001b[38;5;241;43m.\u001b[39;49m\u001b[43mscore\u001b[49m\u001b[43m(\u001b[49m\u001b[43mX\u001b[49m\u001b[43m,\u001b[49m\u001b[43m \u001b[49m\u001b[43my\u001b[49m\u001b[43m)\u001b[49m \u001b[38;5;241m==\u001b[39m \u001b[38;5;241m1.0\u001b[39m:\n\u001b[1;32m     31\u001b[0m     currX \u001b[38;5;241m=\u001b[39m new_x\n\u001b[1;32m     32\u001b[0m     currY \u001b[38;5;241m=\u001b[39m new_y\n",
      "File \u001b[0;32m~/Library/Python/3.9/lib/python/site-packages/sklearn/base.py:764\u001b[0m, in \u001b[0;36mClassifierMixin.score\u001b[0;34m(self, X, y, sample_weight)\u001b[0m\n\u001b[1;32m    739\u001b[0m \u001b[38;5;250m\u001b[39m\u001b[38;5;124;03m\"\"\"\u001b[39;00m\n\u001b[1;32m    740\u001b[0m \u001b[38;5;124;03mReturn the mean accuracy on the given test data and labels.\u001b[39;00m\n\u001b[1;32m    741\u001b[0m \n\u001b[0;32m   (...)\u001b[0m\n\u001b[1;32m    760\u001b[0m \u001b[38;5;124;03m    Mean accuracy of ``self.predict(X)`` w.r.t. `y`.\u001b[39;00m\n\u001b[1;32m    761\u001b[0m \u001b[38;5;124;03m\"\"\"\u001b[39;00m\n\u001b[1;32m    762\u001b[0m \u001b[38;5;28;01mfrom\u001b[39;00m \u001b[38;5;21;01m.\u001b[39;00m\u001b[38;5;21;01mmetrics\u001b[39;00m \u001b[38;5;28;01mimport\u001b[39;00m accuracy_score\n\u001b[0;32m--> 764\u001b[0m \u001b[38;5;28;01mreturn\u001b[39;00m accuracy_score(y, \u001b[38;5;28;43mself\u001b[39;49m\u001b[38;5;241;43m.\u001b[39;49m\u001b[43mpredict\u001b[49m\u001b[43m(\u001b[49m\u001b[43mX\u001b[49m\u001b[43m)\u001b[49m, sample_weight\u001b[38;5;241m=\u001b[39msample_weight)\n",
      "File \u001b[0;32m~/Library/Python/3.9/lib/python/site-packages/sklearn/neighbors/_classification.py:295\u001b[0m, in \u001b[0;36mKNeighborsClassifier.predict\u001b[0;34m(self, X)\u001b[0m\n\u001b[1;32m    293\u001b[0m \u001b[38;5;28;01mfor\u001b[39;00m k, classes_k \u001b[38;5;129;01min\u001b[39;00m \u001b[38;5;28menumerate\u001b[39m(classes_):\n\u001b[1;32m    294\u001b[0m     \u001b[38;5;28;01mif\u001b[39;00m weights \u001b[38;5;129;01mis\u001b[39;00m \u001b[38;5;28;01mNone\u001b[39;00m:\n\u001b[0;32m--> 295\u001b[0m         mode, _ \u001b[38;5;241m=\u001b[39m \u001b[43m_mode\u001b[49m\u001b[43m(\u001b[49m\u001b[43m_y\u001b[49m\u001b[43m[\u001b[49m\u001b[43mneigh_ind\u001b[49m\u001b[43m,\u001b[49m\u001b[43m \u001b[49m\u001b[43mk\u001b[49m\u001b[43m]\u001b[49m\u001b[43m,\u001b[49m\u001b[43m \u001b[49m\u001b[43maxis\u001b[49m\u001b[38;5;241;43m=\u001b[39;49m\u001b[38;5;241;43m1\u001b[39;49m\u001b[43m)\u001b[49m\n\u001b[1;32m    296\u001b[0m     \u001b[38;5;28;01melse\u001b[39;00m:\n\u001b[1;32m    297\u001b[0m         mode, _ \u001b[38;5;241m=\u001b[39m weighted_mode(_y[neigh_ind, k], weights, axis\u001b[38;5;241m=\u001b[39m\u001b[38;5;241m1\u001b[39m)\n",
      "File \u001b[0;32m~/Library/Python/3.9/lib/python/site-packages/sklearn/utils/fixes.py:124\u001b[0m, in \u001b[0;36m_mode\u001b[0;34m(a, axis)\u001b[0m\n\u001b[1;32m    122\u001b[0m \u001b[38;5;28;01mdef\u001b[39;00m \u001b[38;5;21m_mode\u001b[39m(a, axis\u001b[38;5;241m=\u001b[39m\u001b[38;5;241m0\u001b[39m):\n\u001b[1;32m    123\u001b[0m     \u001b[38;5;28;01mif\u001b[39;00m sp_version \u001b[38;5;241m>\u001b[39m\u001b[38;5;241m=\u001b[39m parse_version(\u001b[38;5;124m\"\u001b[39m\u001b[38;5;124m1.9.0\u001b[39m\u001b[38;5;124m\"\u001b[39m):\n\u001b[0;32m--> 124\u001b[0m         mode \u001b[38;5;241m=\u001b[39m \u001b[43mscipy\u001b[49m\u001b[38;5;241;43m.\u001b[39;49m\u001b[43mstats\u001b[49m\u001b[38;5;241;43m.\u001b[39;49m\u001b[43mmode\u001b[49m\u001b[43m(\u001b[49m\u001b[43ma\u001b[49m\u001b[43m,\u001b[49m\u001b[43m \u001b[49m\u001b[43maxis\u001b[49m\u001b[38;5;241;43m=\u001b[39;49m\u001b[43maxis\u001b[49m\u001b[43m,\u001b[49m\u001b[43m \u001b[49m\u001b[43mkeepdims\u001b[49m\u001b[38;5;241;43m=\u001b[39;49m\u001b[38;5;28;43;01mTrue\u001b[39;49;00m\u001b[43m)\u001b[49m\n\u001b[1;32m    125\u001b[0m         \u001b[38;5;28;01mif\u001b[39;00m sp_version \u001b[38;5;241m>\u001b[39m\u001b[38;5;241m=\u001b[39m parse_version(\u001b[38;5;124m\"\u001b[39m\u001b[38;5;124m1.10.999\u001b[39m\u001b[38;5;124m\"\u001b[39m):\n\u001b[1;32m    126\u001b[0m             \u001b[38;5;66;03m# scipy.stats.mode has changed returned array shape with axis=None\u001b[39;00m\n\u001b[1;32m    127\u001b[0m             \u001b[38;5;66;03m# and keepdims=True, see https://github.com/scipy/scipy/pull/17561\u001b[39;00m\n\u001b[1;32m    128\u001b[0m             \u001b[38;5;28;01mif\u001b[39;00m axis \u001b[38;5;129;01mis\u001b[39;00m \u001b[38;5;28;01mNone\u001b[39;00m:\n",
      "File \u001b[0;32m~/Library/Python/3.9/lib/python/site-packages/scipy/stats/_axis_nan_policy.py:554\u001b[0m, in \u001b[0;36m_axis_nan_policy_factory.<locals>.axis_nan_policy_decorator.<locals>.axis_nan_policy_wrapper\u001b[0;34m(***failed resolving arguments***)\u001b[0m\n\u001b[1;32m    552\u001b[0m lengths \u001b[38;5;241m=\u001b[39m np\u001b[38;5;241m.\u001b[39marray([sample\u001b[38;5;241m.\u001b[39mshape[axis] \u001b[38;5;28;01mfor\u001b[39;00m sample \u001b[38;5;129;01min\u001b[39;00m samples])\n\u001b[1;32m    553\u001b[0m split_indices \u001b[38;5;241m=\u001b[39m np\u001b[38;5;241m.\u001b[39mcumsum(lengths)\n\u001b[0;32m--> 554\u001b[0m x \u001b[38;5;241m=\u001b[39m \u001b[43m_broadcast_concatenate\u001b[49m\u001b[43m(\u001b[49m\u001b[43msamples\u001b[49m\u001b[43m,\u001b[49m\u001b[43m \u001b[49m\u001b[43maxis\u001b[49m\u001b[43m)\u001b[49m\n\u001b[1;32m    556\u001b[0m \u001b[38;5;66;03m# Addresses nan_policy == \"raise\"\u001b[39;00m\n\u001b[1;32m    557\u001b[0m \u001b[38;5;28;01mif\u001b[39;00m nan_policy \u001b[38;5;241m!=\u001b[39m \u001b[38;5;124m'\u001b[39m\u001b[38;5;124mpropagate\u001b[39m\u001b[38;5;124m'\u001b[39m \u001b[38;5;129;01mor\u001b[39;00m override[\u001b[38;5;124m'\u001b[39m\u001b[38;5;124mnan_propagation\u001b[39m\u001b[38;5;124m'\u001b[39m]:\n",
      "File \u001b[0;32m~/Library/Python/3.9/lib/python/site-packages/scipy/stats/_axis_nan_policy.py:134\u001b[0m, in \u001b[0;36m_broadcast_concatenate\u001b[0;34m(arrays, axis, paired)\u001b[0m\n\u001b[1;32m    132\u001b[0m \u001b[38;5;250m\u001b[39m\u001b[38;5;124;03m\"\"\"Concatenate arrays along an axis with broadcasting.\"\"\"\u001b[39;00m\n\u001b[1;32m    133\u001b[0m arrays \u001b[38;5;241m=\u001b[39m _broadcast_arrays(arrays, axis \u001b[38;5;28;01mif\u001b[39;00m \u001b[38;5;129;01mnot\u001b[39;00m paired \u001b[38;5;28;01melse\u001b[39;00m \u001b[38;5;28;01mNone\u001b[39;00m)\n\u001b[0;32m--> 134\u001b[0m res \u001b[38;5;241m=\u001b[39m \u001b[43mnp\u001b[49m\u001b[38;5;241;43m.\u001b[39;49m\u001b[43mconcatenate\u001b[49m\u001b[43m(\u001b[49m\u001b[43marrays\u001b[49m\u001b[43m,\u001b[49m\u001b[43m \u001b[49m\u001b[43maxis\u001b[49m\u001b[38;5;241;43m=\u001b[39;49m\u001b[43maxis\u001b[49m\u001b[43m)\u001b[49m\n\u001b[1;32m    135\u001b[0m \u001b[38;5;28;01mreturn\u001b[39;00m res\n",
      "File \u001b[0;32m~/Library/Python/3.9/lib/python/site-packages/numpy/core/multiarray.py:153\u001b[0m, in \u001b[0;36mconcatenate\u001b[0;34m(arrays, axis, out, dtype, casting)\u001b[0m\n\u001b[1;32m     87\u001b[0m \u001b[38;5;250m    \u001b[39m\u001b[38;5;124;03m\"\"\"\u001b[39;00m\n\u001b[1;32m     88\u001b[0m \u001b[38;5;124;03m    empty_like(prototype, dtype=None, order='K', subok=True, shape=None)\u001b[39;00m\n\u001b[1;32m     89\u001b[0m \n\u001b[0;32m   (...)\u001b[0m\n\u001b[1;32m    148\u001b[0m \n\u001b[1;32m    149\u001b[0m \u001b[38;5;124;03m    \"\"\"\u001b[39;00m\n\u001b[1;32m    150\u001b[0m     \u001b[38;5;28;01mreturn\u001b[39;00m (prototype,)\n\u001b[0;32m--> 153\u001b[0m \u001b[38;5;129m@array_function_from_c_func_and_dispatcher\u001b[39m(_multiarray_umath\u001b[38;5;241m.\u001b[39mconcatenate)\n\u001b[1;32m    154\u001b[0m \u001b[38;5;28;01mdef\u001b[39;00m \u001b[38;5;21mconcatenate\u001b[39m(arrays, axis\u001b[38;5;241m=\u001b[39m\u001b[38;5;28;01mNone\u001b[39;00m, out\u001b[38;5;241m=\u001b[39m\u001b[38;5;28;01mNone\u001b[39;00m, \u001b[38;5;241m*\u001b[39m, dtype\u001b[38;5;241m=\u001b[39m\u001b[38;5;28;01mNone\u001b[39;00m, casting\u001b[38;5;241m=\u001b[39m\u001b[38;5;28;01mNone\u001b[39;00m):\n\u001b[1;32m    155\u001b[0m \u001b[38;5;250m    \u001b[39m\u001b[38;5;124;03m\"\"\"\u001b[39;00m\n\u001b[1;32m    156\u001b[0m \u001b[38;5;124;03m    concatenate((a1, a2, ...), axis=0, out=None, dtype=None, casting=\"same_kind\")\u001b[39;00m\n\u001b[1;32m    157\u001b[0m \n\u001b[0;32m   (...)\u001b[0m\n\u001b[1;32m    245\u001b[0m \n\u001b[1;32m    246\u001b[0m \u001b[38;5;124;03m    \"\"\"\u001b[39;00m\n\u001b[1;32m    247\u001b[0m     \u001b[38;5;28;01mif\u001b[39;00m out \u001b[38;5;129;01mis\u001b[39;00m \u001b[38;5;129;01mnot\u001b[39;00m \u001b[38;5;28;01mNone\u001b[39;00m:\n\u001b[1;32m    248\u001b[0m         \u001b[38;5;66;03m# optimize for the typical case where only arrays is provided\u001b[39;00m\n",
      "\u001b[0;31mKeyboardInterrupt\u001b[0m: "
     ]
    }
   ],
   "source": [
    "import numpy as np\n",
    "from sklearn.neighbors import KNeighborsClassifier\n",
    "from sklearn.model_selection import train_test_split\n",
    "from itertools import product\n",
    "\n",
    "def generate_datasets(n_samples, n_features):\n",
    "    combinations = list(product([0, 1], repeat=n_features)) \n",
    "    X = np.array(combinations)\n",
    "    labels = list(product([0, 1], repeat=n_samples))\n",
    "    y = np.array(labels)\n",
    "\n",
    "    return X, y\n",
    "\n",
    "def calculate_mem_size(X, y):\n",
    "    clf = KNeighborsClassifier(n_neighbors=1)\n",
    "\n",
    "    currX = X\n",
    "    currY = y\n",
    "\n",
    "    updating = True\n",
    "    index = 0\n",
    "\n",
    "    while updating and currX.shape[0] > 1:\n",
    "        updating = False\n",
    "        curr_size = currX.shape[0]\n",
    "        for i in range(index, curr_size):\n",
    "            new_x = np.delete(currX, i, 0)\n",
    "            new_y = np.delete(currY, i)\n",
    "            clf.fit(new_x, new_y)\n",
    "            if clf.score(X, y) == 1.0:\n",
    "                currX = new_x\n",
    "                currY = new_y\n",
    "                updating = True\n",
    "                index = i\n",
    "                break\n",
    "    return len(currX)\n",
    "\n",
    "dimensions = [2, 4, 8]\n",
    "\n",
    "for D in dimensions:\n",
    "    n_full = 2 ** D\n",
    "    X, y_all = generate_datasets(n_full, D)\n",
    "    n_func = len(y_all)\n",
    "\n",
    "    avg_mem_size = 0\n",
    "    for y in y_all:\n",
    "        mem_size = calculate_mem_size(X, y)\n",
    "        avg_mem_size += mem_size\n",
    "    avg_mem_size /= n_func\n",
    "    print(f\"d={D}: n_full={n_full}, Avg. req. points for memorization n_avg={avg_mem_size:.2f}, n_full/n_avg={n_full/avg_mem_size:.2f}\")"
   ]
  },
  {
   "cell_type": "markdown",
   "metadata": {},
   "source": [
    "### 6.1b\n",
    "Multiclass"
   ]
  },
  {
   "cell_type": "code",
   "execution_count": 49,
   "metadata": {},
   "outputs": [],
   "source": [
    "def generate_n_class_datasets(n_samples, n_features, n_classes=3):\n",
    "    combinations = list(product([0, 1], repeat=n_features)) \n",
    "    X = np.array(combinations)\n",
    "    labels = list(product(range(n_classes), repeat=n_samples))\n",
    "    y = np.array(labels)\n",
    "\n",
    "    return X, y"
   ]
  },
  {
   "cell_type": "code",
   "execution_count": 50,
   "metadata": {},
   "outputs": [
    {
     "name": "stdout",
     "output_type": "stream",
     "text": [
      "d=2: n_full=4, Avg. req. points for memorization n_avg=3.00, n_full/n_avg=1.33\n",
      "d=3: n_full=8, Avg. req. points for memorization n_avg=5.72, n_full/n_avg=1.40\n"
     ]
    },
    {
     "ename": "KeyboardInterrupt",
     "evalue": "",
     "output_type": "error",
     "traceback": [
      "\u001b[0;31m---------------------------------------------------------------------------\u001b[0m",
      "\u001b[0;31mKeyboardInterrupt\u001b[0m                         Traceback (most recent call last)",
      "Cell \u001b[0;32mIn[50], line 3\u001b[0m\n\u001b[1;32m      1\u001b[0m \u001b[38;5;28;01mfor\u001b[39;00m D \u001b[38;5;129;01min\u001b[39;00m dimensions:\n\u001b[1;32m      2\u001b[0m     n_full \u001b[38;5;241m=\u001b[39m \u001b[38;5;241m2\u001b[39m \u001b[38;5;241m*\u001b[39m\u001b[38;5;241m*\u001b[39m D\n\u001b[0;32m----> 3\u001b[0m     X, y_all \u001b[38;5;241m=\u001b[39m \u001b[43mgenerate_n_class_datasets\u001b[49m\u001b[43m(\u001b[49m\u001b[43mn_full\u001b[49m\u001b[43m,\u001b[49m\u001b[43m \u001b[49m\u001b[43mD\u001b[49m\u001b[43m)\u001b[49m\n\u001b[1;32m      4\u001b[0m     n_func \u001b[38;5;241m=\u001b[39m \u001b[38;5;28mlen\u001b[39m(y_all)\n\u001b[1;32m      6\u001b[0m     avg_mem_size \u001b[38;5;241m=\u001b[39m \u001b[38;5;241m0\u001b[39m\n",
      "Cell \u001b[0;32mIn[49], line 5\u001b[0m, in \u001b[0;36mgenerate_n_class_datasets\u001b[0;34m(n_samples, n_features, n_classes)\u001b[0m\n\u001b[1;32m      3\u001b[0m X \u001b[38;5;241m=\u001b[39m np\u001b[38;5;241m.\u001b[39marray(combinations)\n\u001b[1;32m      4\u001b[0m labels \u001b[38;5;241m=\u001b[39m \u001b[38;5;28mlist\u001b[39m(product(\u001b[38;5;28mrange\u001b[39m(n_classes), repeat\u001b[38;5;241m=\u001b[39mn_samples))\n\u001b[0;32m----> 5\u001b[0m y \u001b[38;5;241m=\u001b[39m \u001b[43mnp\u001b[49m\u001b[38;5;241;43m.\u001b[39;49m\u001b[43marray\u001b[49m\u001b[43m(\u001b[49m\u001b[43mlabels\u001b[49m\u001b[43m)\u001b[49m\n\u001b[1;32m      7\u001b[0m \u001b[38;5;28;01mreturn\u001b[39;00m X, y\n",
      "\u001b[0;31mKeyboardInterrupt\u001b[0m: "
     ]
    }
   ],
   "source": [
    "for D in dimensions:\n",
    "    n_full = 2 ** D\n",
    "    X, y_all = generate_n_class_datasets(n_full, D)\n",
    "    n_func = len(y_all)\n",
    "\n",
    "    avg_mem_size = 0\n",
    "    for y in y_all:\n",
    "        mem_size = calculate_mem_size(X, y)\n",
    "        avg_mem_size += mem_size\n",
    "    avg_mem_size /= n_func\n",
    "    print(f\"d={D}: n_full={n_full}, Avg. req. points for memorization n_avg={avg_mem_size:.2f}, n_full/n_avg={n_full/avg_mem_size:.2f}\")"
   ]
  },
  {
   "cell_type": "code",
   "execution_count": 51,
   "metadata": {},
   "outputs": [
    {
     "name": "stdout",
     "output_type": "stream",
     "text": [
      "d=2: n_full=4, Avg. req. points for memorization n_avg=3.25, n_full/n_avg=1.23\n"
     ]
    }
   ],
   "source": [
    "for D in dimensions:\n",
    "    n_full = 2 ** D\n",
    "    X, y_all = generate_n_class_datasets(n_full, D, 4)\n",
    "    n_func = len(y_all)\n",
    "\n",
    "    avg_mem_size = 0\n",
    "    for y in y_all:\n",
    "        mem_size = calculate_mem_size(X, y)\n",
    "        avg_mem_size += mem_size\n",
    "    avg_mem_size /= n_func\n",
    "    print(f\"d={D}: n_full={n_full}, Avg. req. points for memorization n_avg={avg_mem_size:.2f}, n_full/n_avg={n_full/avg_mem_size:.2f}\")"
   ]
  },
  {
   "cell_type": "markdown",
   "metadata": {},
   "source": [
    "More classes, the lower the memorized bits/param as expected"
   ]
  },
  {
   "cell_type": "markdown",
   "metadata": {},
   "source": []
  }
 ],
 "metadata": {
  "kernelspec": {
   "display_name": "Python 3",
   "language": "python",
   "name": "python3"
  },
  "language_info": {
   "codemirror_mode": {
    "name": "ipython",
    "version": 3
   },
   "file_extension": ".py",
   "mimetype": "text/x-python",
   "name": "python",
   "nbconvert_exporter": "python",
   "pygments_lexer": "ipython3",
   "version": "3.9.6"
  }
 },
 "nbformat": 4,
 "nbformat_minor": 2
}
