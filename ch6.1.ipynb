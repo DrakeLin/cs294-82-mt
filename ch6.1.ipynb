{
 "cells": [
  {
   "cell_type": "code",
   "execution_count": 1,
   "metadata": {},
   "outputs": [],
   "source": [
    "import numpy as np\n",
    "from sklearn.neighbors import KNeighborsClassifier\n",
    "from sklearn.datasets import make_classification"
   ]
  },
  {
   "cell_type": "markdown",
   "metadata": {},
   "source": [
    "### 6.1a\n",
    "Show empirically that the information limit of 2 prediction bits per parameter also holds for nearest neighbors."
   ]
  },
  {
   "cell_type": "code",
   "execution_count": 7,
   "metadata": {},
   "outputs": [
    {
     "name": "stdout",
     "output_type": "stream",
     "text": [
      "d=2: n_full=4, Avg. req. points for memorization n_avg=0.25, n_full/n_avg=16.00\n",
      "d=4: n_full=16, Avg. req. points for memorization n_avg=0.00, n_full/n_avg=65536.00\n"
     ]
    },
    {
     "name": "stderr",
     "output_type": "stream",
     "text": [
      "Exception ignored in: <bound method IPythonKernel._clean_thread_parent_frames of <ipykernel.ipkernel.IPythonKernel object at 0x1079ff190>>\n",
      "Traceback (most recent call last):\n",
      "  File \"/Users/drake.lin/Library/Python/3.9/lib/python/site-packages/ipykernel/ipkernel.py\", line 770, in _clean_thread_parent_frames\n",
      "    def _clean_thread_parent_frames(\n",
      "KeyboardInterrupt: \n"
     ]
    }
   ],
   "source": [
    "import numpy as np\n",
    "from sklearn.neighbors import KNeighborsClassifier\n",
    "from sklearn.model_selection import train_test_split\n",
    "from itertools import product\n",
    "\n",
    "def generate_datasets(n_samples, n_features):\n",
    "    combinations = list(product([0, 1], repeat=n_features)) \n",
    "    X = np.array(combinations)\n",
    "    labels = list(product([0, 1], repeat=n_samples))\n",
    "    y = np.array(labels)\n",
    "\n",
    "    return X, y\n",
    "\n",
    "def calculate_mem_size(X, y):\n",
    "    clf = KNeighborsClassifier(n_neighbors=1)\n",
    "    mem_size = 1\n",
    "    while mem_size <= X.shape[0]:\n",
    "        indices = np.random.choice(X.shape[0], mem_size, replace=False)\n",
    "        clf.fit(X[indices], y[indices])\n",
    "        train_score = clf.score(X, y)\n",
    "        if train_score == 1.0:\n",
    "            return mem_size\n",
    "        mem_size += 1\n",
    "    return mem_size\n",
    "\n",
    "dimensions = [2, 4, 8]\n",
    "\n",
    "for D in dimensions:\n",
    "    n_full = 2 ** D\n",
    "    X, y_all = generate_datasets(n_full, D)\n",
    "    n_func = len(y_all)\n",
    "\n",
    "    avg_mem_size = 0\n",
    "    for y in y_all:\n",
    "        avg_mem_size += calculate_mem_size(X, y)\n",
    "    avg_mem_size /= n_func\n",
    "    print(f\"d={D}: n_full={n_full}, Avg. req. points for memorization n_avg={avg_mem_size:.2f}, n_full/n_avg={n_full/avg_mem_size:.2f}\")"
   ]
  },
  {
   "cell_type": "markdown",
   "metadata": {},
   "source": [
    "### 6.1b\n",
    "Multiclass"
   ]
  },
  {
   "cell_type": "code",
   "execution_count": null,
   "metadata": {},
   "outputs": [],
   "source": []
  }
 ],
 "metadata": {
  "kernelspec": {
   "display_name": "Python 3",
   "language": "python",
   "name": "python3"
  },
  "language_info": {
   "codemirror_mode": {
    "name": "ipython",
    "version": 3
   },
   "file_extension": ".py",
   "mimetype": "text/x-python",
   "name": "python",
   "nbconvert_exporter": "python",
   "pygments_lexer": "ipython3",
   "version": "3.9.6"
  }
 },
 "nbformat": 4,
 "nbformat_minor": 2
}
