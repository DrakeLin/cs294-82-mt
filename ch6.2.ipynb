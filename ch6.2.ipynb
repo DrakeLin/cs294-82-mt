{
 "cells": [
  {
   "cell_type": "code",
   "execution_count": 237,
   "metadata": {},
   "outputs": [],
   "source": [
    "import pandas as pd\n",
    "from sklearn.datasets import load_breast_cancer, load_digits, load_iris\n",
    "from sklearn.model_selection import train_test_split\n",
    "from sklearn.metrics import accuracy_score\n",
    "from sklearn.datasets import make_classification\n",
    "\n",
    "import numpy as np"
   ]
  },
  {
   "cell_type": "markdown",
   "metadata": {},
   "source": [
    "#### Dataset"
   ]
  },
  {
   "cell_type": "code",
   "execution_count": 238,
   "metadata": {},
   "outputs": [],
   "source": [
    "# Load the Breast Cancer Wisconsin (Diagnostic) dataset\n",
    "data = load_breast_cancer()\n",
    "X = data.data\n",
    "y = data.target\n",
    "\n",
    "# First split the data into training set and test set\n",
    "X_train, X_test, y_train, y_test = train_test_split(X, y, test_size=0.1, random_state=42)"
   ]
  },
  {
   "cell_type": "markdown",
   "metadata": {},
   "source": [
    "## 2a) Implement a program that automatically creates a set of if- then clauses from the training table of a binary dataset of your choice. Implement different strategies to minimize the number of if-then clauses. Document your strategies, the number of resulting conditional clauses, and the accuracy achieved.\n",
    "\n",
    "I implement 5 different strategies. The first is to generate a rule for each feature and data point. This doesn't generalize well, but is akin to nearest neighbors. I also implemented algorithm 8 as described in the textbook, which was to sort the tables by sum of parameters and then deciding thresholds. The next two strategies I implement are decision trees. The first rule I use to split is maximum information gain. In essence, at each node, we find the feature that gives us the most information and split there. The second decision tree strategy is using the Gini impurity, which is very similar to information gain. Gini impurity is a measure of the probability of incorrectly classifying an element if it was labeled randomly according to the class distribution in the dataset. Finally, I tried pruning as a way to limit the number of if/else clauses. See below for the resulting number of clauses and accuracy achieved. In general, the decision trees performed similarly and pruning resulted in worse accuracy for fewer conditional cluses."
   ]
  },
  {
   "cell_type": "markdown",
   "metadata": {},
   "source": [
    "### Generate a rule for each feature\n",
    "This is a sanity check. We generate a rule for each feature, then compare the test value to the closes value in the training dataset and take the most reported result. (think nearest neighbors)"
   ]
  },
  {
   "cell_type": "code",
   "execution_count": 239,
   "metadata": {},
   "outputs": [
    {
     "name": "stdout",
     "output_type": "stream",
     "text": [
      "Number of rules: 12497, Accuracy: 0.37719298245614036\n"
     ]
    }
   ],
   "source": [
    "# Load the Breast Cancer Wisconsin (Diagnostic) dataset\n",
    "df = pd.DataFrame(data.data, columns=data.feature_names)\n",
    "df['target'] = data.target\n",
    "\n",
    "# Split the dataset into a training set and a test set\n",
    "train_df, test_df = train_test_split(df, test_size=0.2, random_state=42)\n",
    "\n",
    "# Create a dictionary to store the rules\n",
    "rules = {}\n",
    "\n",
    "# For each feature in the training set\n",
    "for feature in train_df.columns[:-1]:\n",
    "    # For each unique value of the feature\n",
    "    for value in train_df[feature].unique():\n",
    "        # Create a rule that predicts the most common target value for this feature value\n",
    "        rules[(feature, value)] = train_df[train_df[feature] == value]['target'].mode()[0]\n",
    "\n",
    "# Apply the rules to the test set and calculate the accuracy\n",
    "y_pred = []\n",
    "for i in range(len(test_df)):\n",
    "    predictions = [rules.get((feature, test_df.iloc[i][feature]), 0) for feature in test_df.columns[:-1]]\n",
    "    y_pred.append(max(set(predictions), key=predictions.count))\n",
    "\n",
    "y_true = test_df['target'].values\n",
    "accuracy = accuracy_score(y_true, y_pred)\n",
    "\n",
    "print(f\"Number of rules: {len(rules)}, Accuracy: {accuracy}\")"
   ]
  },
  {
   "cell_type": "markdown",
   "metadata": {},
   "source": [
    "### Algorithm 8"
   ]
  },
  {
   "cell_type": "code",
   "execution_count": 240,
   "metadata": {},
   "outputs": [
    {
     "name": "stdout",
     "output_type": "stream",
     "text": [
      "num thresholds = 513\n",
      "accuracy: 0.8596491228070176\n"
     ]
    }
   ],
   "source": [
    "def memorize(data, labels):\n",
    "    table = [(sum(x), y) for x, y in zip(data, labels)]\n",
    "    sorted_table = sorted(table, key=lambda x: x[0])\n",
    "\n",
    "    thresholds = [sorted_table[0]]\n",
    "    for row in sorted_table:\n",
    "        if row[1] != thresholds[-1][0]:\n",
    "            thresholds.append((row[0], row[1]))\n",
    "    \n",
    "    minthreshs = np.log2(len(thresholds) + 1)\n",
    "    mec = (minthreshs * (len(data[0]) + 1)) + (minthreshs + 1)\n",
    "    \n",
    "    return thresholds, mec\n",
    "\n",
    "def predict_alg8(data, thresholds):\n",
    "    predictions = []\n",
    "    for x in data:\n",
    "        x_sum = np.sum(x)\n",
    "        index = 0\n",
    "        for threshold in thresholds:\n",
    "            if x_sum <= threshold[0]:\n",
    "                break\n",
    "            index += 1\n",
    "        predictions.append(thresholds[index][1])\n",
    "    return predictions\n",
    "\n",
    "def alg8(X_train, y_train, X_test, y_test):\n",
    "    thresholds, _ = memorize(X_train, y_train)\n",
    "    print(\"num thresholds = \" + str(len(thresholds)))\n",
    "    y_pred = predict_alg8(X_test, thresholds)\n",
    "    accuracy = np.mean(y_pred == y_test)\n",
    "    print(\"accuracy: \" + str(accuracy))\n",
    "\n",
    "\n",
    "alg8(X_train, y_train, X_test, y_test)"
   ]
  },
  {
   "cell_type": "markdown",
   "metadata": {},
   "source": [
    "### Decision tree implementation with information gain\n",
    "Split based on max information gain"
   ]
  },
  {
   "cell_type": "code",
   "execution_count": 241,
   "metadata": {},
   "outputs": [],
   "source": [
    "# Function to count the nodes in a tree\n",
    "def count_nodes(tree):\n",
    "    if 'prediction' in tree:\n",
    "        return 0\n",
    "    return 1 + count_nodes(tree['left']) + count_nodes(tree['right'])\n",
    "\n",
    "# Function to make a prediction for a single sample\n",
    "def predict(sample, node):\n",
    "    if 'prediction' in node:\n",
    "        return node['prediction']\n",
    "    if sample[node['feature']] <= node['value']:\n",
    "        return predict(sample, node['left'])\n",
    "    else:\n",
    "        return predict(sample, node['right'])\n"
   ]
  },
  {
   "cell_type": "code",
   "execution_count": 242,
   "metadata": {},
   "outputs": [],
   "source": [
    "def entropy(y):\n",
    "    _, counts = np.unique(y, return_counts=True)\n",
    "    probabilities = counts / counts.sum()\n",
    "    return -np.sum(probabilities * np.log2(probabilities))\n",
    "\n",
    "def information_gain(left, right, parent_entropy):\n",
    "    p = len(left) / (len(left) + len(right))\n",
    "    return parent_entropy - p * entropy(left) - (1 - p) * entropy(right)\n",
    "\n",
    "def best_split(X, y):\n",
    "    best_feature = None\n",
    "    best_value = None\n",
    "    best_info_gain = -np.inf\n",
    "    parent_entropy = entropy(y)\n",
    "    for feature in range(X.shape[1]):\n",
    "        values = np.unique(X[:, feature])\n",
    "        for value in values:\n",
    "            left_mask = X[:, feature] <= value\n",
    "            right_mask = X[:, feature] > value\n",
    "            info_gain = information_gain(y[left_mask], y[right_mask], parent_entropy)\n",
    "            if info_gain > best_info_gain:\n",
    "                best_feature, best_value, best_info_gain = feature, value, info_gain\n",
    "    return best_feature, best_value\n",
    "\n",
    "def build_tree_info(X, y, max_depth=np.inf, depth=0):\n",
    "    entropy_node = entropy(y)\n",
    "    if entropy_node == 0 or depth == max_depth:\n",
    "        return {'prediction': np.round(np.mean(y)), 'entropy': entropy_node, 'samples': len(y)}\n",
    "    feature, value = best_split(X, y)\n",
    "    left_mask = X[:, feature] <= value\n",
    "    right_mask = X[:, feature] > value\n",
    "    left = build_tree_info(X[left_mask], y[left_mask], max_depth, depth + 1)\n",
    "    right = build_tree_info(X[right_mask], y[right_mask], max_depth, depth + 1)\n",
    "    return {'feature': feature, 'value': value, 'entropy': entropy_node, 'samples': len(y), 'left': left, 'right': right}\n"
   ]
  },
  {
   "cell_type": "markdown",
   "metadata": {},
   "source": [
    "### Decision Tree with Gini impurity\n",
    "The Gini impurity of a set is the probability of misclassifying a randomly chosen element if it was randomly labeled according to the distribution of labels in the set."
   ]
  },
  {
   "cell_type": "code",
   "execution_count": 243,
   "metadata": {},
   "outputs": [],
   "source": [
    "# Function to calculate Gini impurity\n",
    "def gini_impurity(y):\n",
    "    _, counts = np.unique(y, return_counts=True)\n",
    "    probabilities = counts / len(y)\n",
    "    return 1 - np.sum(probabilities**2)\n",
    "\n",
    "# Function to calculate the best split for a node\n",
    "def best_split(X, y):\n",
    "    best_gini = 1\n",
    "    best_feature = -1\n",
    "    best_value = -1\n",
    "    for feature in range(X.shape[1]):\n",
    "        for value in np.unique(X[:, feature]):\n",
    "            left_mask = X[:, feature] <= value\n",
    "            right_mask = X[:, feature] > value\n",
    "            left_gini = gini_impurity(y[left_mask])\n",
    "            right_gini = gini_impurity(y[right_mask])\n",
    "            gini = (len(y[left_mask]) * left_gini + len(y[right_mask]) * right_gini) / len(y)\n",
    "            if gini < best_gini:\n",
    "                best_gini = gini\n",
    "                best_feature = feature\n",
    "                best_value = value\n",
    "    return best_feature, best_value\n",
    "\n",
    "# Recursive function to build the decision tree\n",
    "def build_tree_gini(X, y, max_depth, depth=0):\n",
    "    if gini_impurity(y) == 0 or depth == max_depth:\n",
    "        return {'prediction': np.round(np.mean(y))}\n",
    "    feature, value = best_split(X, y)\n",
    "    left_mask = X[:, feature] <= value\n",
    "    right_mask = X[:, feature] > value\n",
    "    return {'feature': feature, 'value': value, 'left': build_tree_gini(X[left_mask], y[left_mask], max_depth, depth + 1), 'right': build_tree_gini(X[right_mask], y[right_mask], max_depth, depth + 1)}\n",
    "\n"
   ]
  },
  {
   "cell_type": "markdown",
   "metadata": {},
   "source": [
    "#### Post process pruning"
   ]
  },
  {
   "cell_type": "code",
   "execution_count": 244,
   "metadata": {},
   "outputs": [],
   "source": [
    "def test(node, X, y):\n",
    "    predictions = [predict(x, node) for x in X]  # Make predictions for each feature vector in X\n",
    "    return np.mean(predictions == y)  # Compare predictions to actual targets and calculate the mean accuracy\n",
    "\n",
    "def prune(node, X_train, y_train, delta):\n",
    "    # Base case: if the node is a leaf node, don't prune it\n",
    "    if 'prediction' in node:\n",
    "        return node\n",
    "\n",
    "    # Calculate the current score of the node\n",
    "    current_score = test(node, X_train, y_train)\n",
    "\n",
    "    # Create a new leaf node that represents the majority class of the current node's instances\n",
    "    leaf_node = {'prediction': 1 if np.mean(y_train) > 0.5 else 0}\n",
    "\n",
    "    # Calculate the score of the new leaf node\n",
    "    leaf_score = test(leaf_node, X_train, y_train)\n",
    "\n",
    "    # If the leaf node's score is lower than the current node's score, prune the node\n",
    "    if current_score - leaf_score < delta:\n",
    "        return leaf_node\n",
    "\n",
    "    # Otherwise, recursively prune the left and right subtrees\n",
    "    left_mask = X_train[:, node['feature']] <= node['value']\n",
    "    right_mask = X_train[:, node['feature']] > node['value']\n",
    "    if left_mask.any():\n",
    "        node['left'] = prune(node['left'], X_train[left_mask], y_train[left_mask], delta)\n",
    "    if right_mask.any():\n",
    "        node['right'] = prune(node['right'], X_train[right_mask], y_train[right_mask], delta)\n",
    "\n",
    "    # Return the pruned node\n",
    "    return node"
   ]
  },
  {
   "cell_type": "markdown",
   "metadata": {},
   "source": [
    "#### Max depth test for info decision tree"
   ]
  },
  {
   "cell_type": "code",
   "execution_count": 245,
   "metadata": {},
   "outputs": [
    {
     "name": "stdout",
     "output_type": "stream",
     "text": [
      "Max Depth: 0, Accuracy: 0.702, Node (conditional clause) Count: 0\n",
      "Max Depth: 1, Accuracy: 0.877, Node (conditional clause) Count: 1\n",
      "Max Depth: 2, Accuracy: 0.93, Node (conditional clause) Count: 3\n",
      "Max Depth: 3, Accuracy: 0.93, Node (conditional clause) Count: 7\n",
      "Max Depth: 4, Accuracy: 0.912, Node (conditional clause) Count: 12\n"
     ]
    }
   ],
   "source": [
    "for max_depth in range(5):\n",
    "    # Build the decision tree\n",
    "    tree = build_tree_info(X_train, y_train, max_depth=max_depth)\n",
    "\n",
    "    # Use the decision tree to make predictions on the test set\n",
    "    y_pred = [predict(sample, tree) for sample in X_test]\n",
    "\n",
    "    # Calculate the accuracy\n",
    "    accuracy = round(accuracy_score(y_test, y_pred),3)\n",
    "    print(f\"Max Depth: {max_depth}, Accuracy: {accuracy}, Node (conditional clause) Count: {count_nodes(tree)}\")"
   ]
  },
  {
   "cell_type": "markdown",
   "metadata": {},
   "source": [
    "#### Max depth test for gini decision tree"
   ]
  },
  {
   "cell_type": "code",
   "execution_count": 246,
   "metadata": {},
   "outputs": [
    {
     "name": "stdout",
     "output_type": "stream",
     "text": [
      "Max Depth: 0, Accuracy: 0.702, Node (conditional clause) Count: 0\n",
      "Max Depth: 1, Accuracy: 0.877, Node (conditional clause) Count: 1\n",
      "Max Depth: 2, Accuracy: 0.93, Node (conditional clause) Count: 3\n",
      "Max Depth: 3, Accuracy: 0.93, Node (conditional clause) Count: 7\n",
      "Max Depth: 4, Accuracy: 0.912, Node (conditional clause) Count: 12\n"
     ]
    }
   ],
   "source": [
    "for max_depth in range(5):\n",
    "    # Build the decision tree\n",
    "    tree = build_tree_gini(X_train, y_train, max_depth=max_depth)\n",
    "\n",
    "    # Use the decision tree to make predictions on the test set\n",
    "    y_pred = [predict(sample, tree) for sample in X_test]\n",
    "\n",
    "    # Calculate the accuracy\n",
    "    accuracy = round(accuracy_score(y_test, y_pred),3)\n",
    "    print(f\"Max Depth: {max_depth}, Accuracy: {accuracy}, Node (conditional clause) Count: {count_nodes(tree)}\")"
   ]
  },
  {
   "cell_type": "markdown",
   "metadata": {},
   "source": [
    "#### Pruning"
   ]
  },
  {
   "cell_type": "code",
   "execution_count": 247,
   "metadata": {},
   "outputs": [
    {
     "name": "stdout",
     "output_type": "stream",
     "text": [
      "Max Depth: 5, Accuracy: 0.912, Node (conditional clause) Count: 15\n",
      "Delta: 0.0, Accuracy: 0.912, Node (conditional clause) Count: 15\n",
      "Delta: 0.01, Accuracy: 0.93, Node (conditional clause) Count: 11\n",
      "Delta: 0.02, Accuracy: 0.947, Node (conditional clause) Count: 8\n",
      "Delta: 0.03, Accuracy: 0.947, Node (conditional clause) Count: 8\n",
      "Delta: 0.04, Accuracy: 0.93, Node (conditional clause) Count: 5\n",
      "Delta: 0.05, Accuracy: 0.93, Node (conditional clause) Count: 4\n",
      "Delta: 0.06, Accuracy: 0.93, Node (conditional clause) Count: 4\n",
      "Delta: 0.07, Accuracy: 0.93, Node (conditional clause) Count: 4\n",
      "Delta: 0.08, Accuracy: 0.93, Node (conditional clause) Count: 4\n",
      "Delta: 0.09, Accuracy: 0.93, Node (conditional clause) Count: 4\n",
      "Delta: 0.1, Accuracy: 0.877, Node (conditional clause) Count: 1\n",
      "Delta: 0.11, Accuracy: 0.877, Node (conditional clause) Count: 1\n",
      "Delta: 0.12, Accuracy: 0.877, Node (conditional clause) Count: 1\n",
      "Delta: 0.13, Accuracy: 0.877, Node (conditional clause) Count: 1\n",
      "Delta: 0.14, Accuracy: 0.877, Node (conditional clause) Count: 1\n",
      "Delta: 0.15, Accuracy: 0.877, Node (conditional clause) Count: 1\n",
      "Delta: 0.16, Accuracy: 0.877, Node (conditional clause) Count: 1\n",
      "Delta: 0.17, Accuracy: 0.877, Node (conditional clause) Count: 1\n",
      "Delta: 0.18, Accuracy: 0.877, Node (conditional clause) Count: 1\n",
      "Delta: 0.19, Accuracy: 0.877, Node (conditional clause) Count: 1\n"
     ]
    }
   ],
   "source": [
    "tree = build_tree_info(X_train, y_train, max_depth=5)\n",
    "y_pred = [predict(sample, tree) for sample in X_test]\n",
    "\n",
    "# Calculate the accuracy\n",
    "accuracy = round(accuracy_score(y_test, y_pred),3)\n",
    "print(f\"Max Depth: 5, Accuracy: {accuracy}, Node (conditional clause) Count: {count_nodes(tree)}\")\n",
    "\n",
    "# Prune tree and test\n",
    "for delta in np.arange(0,.2,.01):\n",
    "    pruned_tree = prune(tree, X_train, y_train, delta=delta)\n",
    "    y_pred = [predict(sample, pruned_tree) for sample in X_test]\n",
    "\n",
    "    accuracy = round(accuracy_score(y_test, y_pred),3)\n",
    "    print(f\"Delta: {round(delta,2)}, Accuracy: {accuracy}, Node (conditional clause) Count: {count_nodes(tree)}\")"
   ]
  },
  {
   "cell_type": "markdown",
   "metadata": {},
   "source": [
    "## Testing on different datasets"
   ]
  },
  {
   "cell_type": "markdown",
   "metadata": {},
   "source": [
    "##### Digits dataset"
   ]
  },
  {
   "cell_type": "code",
   "execution_count": 248,
   "metadata": {},
   "outputs": [],
   "source": [
    "digits = load_digits()\n",
    "X = digits.data\n",
    "y = digits.target\n",
    "\n",
    "# Modify the target vector to have only two classes\n",
    "y_binary = np.where(y < 5, 0, 1)\n",
    "\n",
    "# First split the data into training set and test set\n",
    "X_train, X_test, y_train, y_test = train_test_split(X, y_binary, test_size=0.1, random_state=42)"
   ]
  },
  {
   "cell_type": "markdown",
   "metadata": {},
   "source": [
    "#### Algorithm 8"
   ]
  },
  {
   "cell_type": "code",
   "execution_count": 249,
   "metadata": {},
   "outputs": [
    {
     "name": "stdout",
     "output_type": "stream",
     "text": [
      "num thresholds = 1618\n",
      "accuracy: 0.4444444444444444\n"
     ]
    }
   ],
   "source": [
    "alg8(X_train, y_train, X_test, y_test)"
   ]
  },
  {
   "cell_type": "markdown",
   "metadata": {},
   "source": [
    "#### Max depth test for info decision tree"
   ]
  },
  {
   "cell_type": "code",
   "execution_count": 250,
   "metadata": {},
   "outputs": [
    {
     "name": "stdout",
     "output_type": "stream",
     "text": [
      "Max Depth: 0, Accuracy: 0.483, Node (conditional clause) Count: 0\n",
      "Max Depth: 1, Accuracy: 0.683, Node (conditional clause) Count: 1\n",
      "Max Depth: 2, Accuracy: 0.767, Node (conditional clause) Count: 3\n",
      "Max Depth: 3, Accuracy: 0.811, Node (conditional clause) Count: 7\n",
      "Max Depth: 4, Accuracy: 0.872, Node (conditional clause) Count: 14\n",
      "Max Depth: 5, Accuracy: 0.889, Node (conditional clause) Count: 27\n",
      "Max Depth: 6, Accuracy: 0.861, Node (conditional clause) Count: 44\n",
      "Max Depth: 7, Accuracy: 0.889, Node (conditional clause) Count: 64\n",
      "Max Depth: 8, Accuracy: 0.906, Node (conditional clause) Count: 79\n",
      "Max Depth: 9, Accuracy: 0.906, Node (conditional clause) Count: 96\n"
     ]
    }
   ],
   "source": [
    "for max_depth in range(10):\n",
    "    # Build the decision tree\n",
    "    tree = build_tree_info(X_train, y_train, max_depth=max_depth)\n",
    "\n",
    "    # Use the decision tree to make predictions on the test set\n",
    "    y_pred = [predict(sample, tree) for sample in X_test]\n",
    "\n",
    "    # Calculate the accuracy\n",
    "    accuracy = round(accuracy_score(y_test, y_pred),3)\n",
    "    print(f\"Max Depth: {max_depth}, Accuracy: {accuracy}, Node (conditional clause) Count: {count_nodes(tree)}\")"
   ]
  },
  {
   "cell_type": "markdown",
   "metadata": {},
   "source": [
    "#### Max depth test for gini decision tree"
   ]
  },
  {
   "cell_type": "code",
   "execution_count": 251,
   "metadata": {},
   "outputs": [
    {
     "name": "stdout",
     "output_type": "stream",
     "text": [
      "Max Depth: 0, Accuracy: 0.483, Node (conditional clause) Count: 0\n",
      "Max Depth: 1, Accuracy: 0.683, Node (conditional clause) Count: 1\n",
      "Max Depth: 2, Accuracy: 0.767, Node (conditional clause) Count: 3\n",
      "Max Depth: 3, Accuracy: 0.811, Node (conditional clause) Count: 7\n",
      "Max Depth: 4, Accuracy: 0.872, Node (conditional clause) Count: 14\n",
      "Max Depth: 5, Accuracy: 0.889, Node (conditional clause) Count: 27\n",
      "Max Depth: 6, Accuracy: 0.861, Node (conditional clause) Count: 44\n",
      "Max Depth: 7, Accuracy: 0.889, Node (conditional clause) Count: 64\n",
      "Max Depth: 8, Accuracy: 0.906, Node (conditional clause) Count: 79\n",
      "Max Depth: 9, Accuracy: 0.906, Node (conditional clause) Count: 96\n"
     ]
    }
   ],
   "source": [
    "for max_depth in range(10):\n",
    "    # Build the decision tree\n",
    "    tree = build_tree_gini(X_train, y_train, max_depth=max_depth)\n",
    "\n",
    "    # Use the decision tree to make predictions on the test set\n",
    "    y_pred = [predict(sample, tree) for sample in X_test]\n",
    "\n",
    "    # Calculate the accuracy\n",
    "    accuracy = round(accuracy_score(y_test, y_pred),3)\n",
    "    print(f\"Max Depth: {max_depth}, Accuracy: {accuracy}, Node (conditional clause) Count: {count_nodes(tree)}\")"
   ]
  },
  {
   "cell_type": "markdown",
   "metadata": {},
   "source": [
    "#### Pruning"
   ]
  },
  {
   "cell_type": "code",
   "execution_count": 252,
   "metadata": {},
   "outputs": [
    {
     "name": "stdout",
     "output_type": "stream",
     "text": [
      "Max Depth: 9, Accuracy: 0.906, Node (conditional clause) Count: 96\n",
      "Delta: 0.0, Accuracy: 0.906, Node (conditional clause) Count: 96\n",
      "Delta: 0.01, Accuracy: 0.906, Node (conditional clause) Count: 86\n",
      "Delta: 0.02, Accuracy: 0.911, Node (conditional clause) Count: 72\n",
      "Delta: 0.03, Accuracy: 0.9, Node (conditional clause) Count: 66\n",
      "Delta: 0.04, Accuracy: 0.9, Node (conditional clause) Count: 57\n",
      "Delta: 0.05, Accuracy: 0.9, Node (conditional clause) Count: 56\n",
      "Delta: 0.06, Accuracy: 0.894, Node (conditional clause) Count: 49\n",
      "Delta: 0.07, Accuracy: 0.894, Node (conditional clause) Count: 30\n",
      "Delta: 0.08, Accuracy: 0.9, Node (conditional clause) Count: 27\n",
      "Delta: 0.09, Accuracy: 0.9, Node (conditional clause) Count: 27\n",
      "Delta: 0.1, Accuracy: 0.9, Node (conditional clause) Count: 26\n",
      "Delta: 0.11, Accuracy: 0.872, Node (conditional clause) Count: 18\n",
      "Delta: 0.12, Accuracy: 0.839, Node (conditional clause) Count: 12\n",
      "Delta: 0.13, Accuracy: 0.778, Node (conditional clause) Count: 3\n",
      "Delta: 0.14, Accuracy: 0.683, Node (conditional clause) Count: 1\n",
      "Delta: 0.15, Accuracy: 0.683, Node (conditional clause) Count: 1\n",
      "Delta: 0.16, Accuracy: 0.683, Node (conditional clause) Count: 1\n",
      "Delta: 0.17, Accuracy: 0.683, Node (conditional clause) Count: 1\n",
      "Delta: 0.18, Accuracy: 0.483, Node (conditional clause) Count: 1\n",
      "Delta: 0.19, Accuracy: 0.483, Node (conditional clause) Count: 1\n",
      "Delta: 0.2, Accuracy: 0.483, Node (conditional clause) Count: 1\n",
      "Delta: 0.21, Accuracy: 0.483, Node (conditional clause) Count: 1\n",
      "Delta: 0.22, Accuracy: 0.483, Node (conditional clause) Count: 1\n",
      "Delta: 0.23, Accuracy: 0.483, Node (conditional clause) Count: 1\n",
      "Delta: 0.24, Accuracy: 0.483, Node (conditional clause) Count: 1\n",
      "Delta: 0.25, Accuracy: 0.483, Node (conditional clause) Count: 1\n",
      "Delta: 0.26, Accuracy: 0.483, Node (conditional clause) Count: 1\n",
      "Delta: 0.27, Accuracy: 0.483, Node (conditional clause) Count: 1\n",
      "Delta: 0.28, Accuracy: 0.483, Node (conditional clause) Count: 1\n",
      "Delta: 0.29, Accuracy: 0.483, Node (conditional clause) Count: 1\n",
      "Delta: 0.3, Accuracy: 0.483, Node (conditional clause) Count: 1\n",
      "Delta: 0.31, Accuracy: 0.483, Node (conditional clause) Count: 1\n",
      "Delta: 0.32, Accuracy: 0.483, Node (conditional clause) Count: 1\n",
      "Delta: 0.33, Accuracy: 0.483, Node (conditional clause) Count: 1\n",
      "Delta: 0.34, Accuracy: 0.483, Node (conditional clause) Count: 1\n",
      "Delta: 0.35, Accuracy: 0.483, Node (conditional clause) Count: 1\n",
      "Delta: 0.36, Accuracy: 0.483, Node (conditional clause) Count: 1\n",
      "Delta: 0.37, Accuracy: 0.483, Node (conditional clause) Count: 1\n",
      "Delta: 0.38, Accuracy: 0.483, Node (conditional clause) Count: 1\n",
      "Delta: 0.39, Accuracy: 0.483, Node (conditional clause) Count: 1\n",
      "Delta: 0.4, Accuracy: 0.483, Node (conditional clause) Count: 1\n",
      "Delta: 0.41, Accuracy: 0.483, Node (conditional clause) Count: 1\n",
      "Delta: 0.42, Accuracy: 0.483, Node (conditional clause) Count: 1\n",
      "Delta: 0.43, Accuracy: 0.483, Node (conditional clause) Count: 1\n",
      "Delta: 0.44, Accuracy: 0.483, Node (conditional clause) Count: 1\n",
      "Delta: 0.45, Accuracy: 0.483, Node (conditional clause) Count: 1\n",
      "Delta: 0.46, Accuracy: 0.483, Node (conditional clause) Count: 1\n",
      "Delta: 0.47, Accuracy: 0.483, Node (conditional clause) Count: 1\n",
      "Delta: 0.48, Accuracy: 0.483, Node (conditional clause) Count: 1\n",
      "Delta: 0.49, Accuracy: 0.483, Node (conditional clause) Count: 1\n",
      "Delta: 0.5, Accuracy: 0.483, Node (conditional clause) Count: 1\n",
      "Delta: 0.51, Accuracy: 0.483, Node (conditional clause) Count: 1\n",
      "Delta: 0.52, Accuracy: 0.483, Node (conditional clause) Count: 1\n",
      "Delta: 0.53, Accuracy: 0.483, Node (conditional clause) Count: 1\n",
      "Delta: 0.54, Accuracy: 0.483, Node (conditional clause) Count: 1\n",
      "Delta: 0.55, Accuracy: 0.483, Node (conditional clause) Count: 1\n",
      "Delta: 0.56, Accuracy: 0.483, Node (conditional clause) Count: 1\n",
      "Delta: 0.57, Accuracy: 0.483, Node (conditional clause) Count: 1\n",
      "Delta: 0.58, Accuracy: 0.483, Node (conditional clause) Count: 1\n",
      "Delta: 0.59, Accuracy: 0.483, Node (conditional clause) Count: 1\n",
      "Delta: 0.6, Accuracy: 0.483, Node (conditional clause) Count: 1\n",
      "Delta: 0.61, Accuracy: 0.483, Node (conditional clause) Count: 1\n",
      "Delta: 0.62, Accuracy: 0.483, Node (conditional clause) Count: 1\n",
      "Delta: 0.63, Accuracy: 0.483, Node (conditional clause) Count: 1\n",
      "Delta: 0.64, Accuracy: 0.483, Node (conditional clause) Count: 1\n",
      "Delta: 0.65, Accuracy: 0.483, Node (conditional clause) Count: 1\n",
      "Delta: 0.66, Accuracy: 0.483, Node (conditional clause) Count: 1\n",
      "Delta: 0.67, Accuracy: 0.483, Node (conditional clause) Count: 1\n",
      "Delta: 0.68, Accuracy: 0.483, Node (conditional clause) Count: 1\n",
      "Delta: 0.69, Accuracy: 0.483, Node (conditional clause) Count: 1\n",
      "Delta: 0.7, Accuracy: 0.483, Node (conditional clause) Count: 1\n",
      "Delta: 0.71, Accuracy: 0.483, Node (conditional clause) Count: 1\n",
      "Delta: 0.72, Accuracy: 0.483, Node (conditional clause) Count: 1\n",
      "Delta: 0.73, Accuracy: 0.483, Node (conditional clause) Count: 1\n",
      "Delta: 0.74, Accuracy: 0.483, Node (conditional clause) Count: 1\n",
      "Delta: 0.75, Accuracy: 0.483, Node (conditional clause) Count: 1\n",
      "Delta: 0.76, Accuracy: 0.483, Node (conditional clause) Count: 1\n",
      "Delta: 0.77, Accuracy: 0.483, Node (conditional clause) Count: 1\n",
      "Delta: 0.78, Accuracy: 0.483, Node (conditional clause) Count: 1\n",
      "Delta: 0.79, Accuracy: 0.483, Node (conditional clause) Count: 1\n",
      "Delta: 0.8, Accuracy: 0.483, Node (conditional clause) Count: 1\n",
      "Delta: 0.81, Accuracy: 0.483, Node (conditional clause) Count: 1\n",
      "Delta: 0.82, Accuracy: 0.483, Node (conditional clause) Count: 1\n",
      "Delta: 0.83, Accuracy: 0.483, Node (conditional clause) Count: 1\n",
      "Delta: 0.84, Accuracy: 0.483, Node (conditional clause) Count: 1\n",
      "Delta: 0.85, Accuracy: 0.483, Node (conditional clause) Count: 1\n",
      "Delta: 0.86, Accuracy: 0.483, Node (conditional clause) Count: 1\n",
      "Delta: 0.87, Accuracy: 0.483, Node (conditional clause) Count: 1\n",
      "Delta: 0.88, Accuracy: 0.483, Node (conditional clause) Count: 1\n",
      "Delta: 0.89, Accuracy: 0.483, Node (conditional clause) Count: 1\n",
      "Delta: 0.9, Accuracy: 0.483, Node (conditional clause) Count: 1\n",
      "Delta: 0.91, Accuracy: 0.483, Node (conditional clause) Count: 1\n",
      "Delta: 0.92, Accuracy: 0.483, Node (conditional clause) Count: 1\n",
      "Delta: 0.93, Accuracy: 0.483, Node (conditional clause) Count: 1\n",
      "Delta: 0.94, Accuracy: 0.483, Node (conditional clause) Count: 1\n",
      "Delta: 0.95, Accuracy: 0.483, Node (conditional clause) Count: 1\n",
      "Delta: 0.96, Accuracy: 0.483, Node (conditional clause) Count: 1\n",
      "Delta: 0.97, Accuracy: 0.483, Node (conditional clause) Count: 1\n",
      "Delta: 0.98, Accuracy: 0.483, Node (conditional clause) Count: 1\n",
      "Delta: 0.99, Accuracy: 0.483, Node (conditional clause) Count: 1\n",
      "Delta: 1.0, Accuracy: 0.483, Node (conditional clause) Count: 1\n",
      "Delta: 1.01, Accuracy: 0.483, Node (conditional clause) Count: 1\n",
      "Delta: 1.02, Accuracy: 0.483, Node (conditional clause) Count: 1\n",
      "Delta: 1.03, Accuracy: 0.483, Node (conditional clause) Count: 1\n",
      "Delta: 1.04, Accuracy: 0.483, Node (conditional clause) Count: 1\n",
      "Delta: 1.05, Accuracy: 0.483, Node (conditional clause) Count: 1\n",
      "Delta: 1.06, Accuracy: 0.483, Node (conditional clause) Count: 1\n",
      "Delta: 1.07, Accuracy: 0.483, Node (conditional clause) Count: 1\n",
      "Delta: 1.08, Accuracy: 0.483, Node (conditional clause) Count: 1\n",
      "Delta: 1.09, Accuracy: 0.483, Node (conditional clause) Count: 1\n",
      "Delta: 1.1, Accuracy: 0.483, Node (conditional clause) Count: 1\n",
      "Delta: 1.11, Accuracy: 0.483, Node (conditional clause) Count: 1\n",
      "Delta: 1.12, Accuracy: 0.483, Node (conditional clause) Count: 1\n",
      "Delta: 1.13, Accuracy: 0.483, Node (conditional clause) Count: 1\n",
      "Delta: 1.14, Accuracy: 0.483, Node (conditional clause) Count: 1\n",
      "Delta: 1.15, Accuracy: 0.483, Node (conditional clause) Count: 1\n",
      "Delta: 1.16, Accuracy: 0.483, Node (conditional clause) Count: 1\n",
      "Delta: 1.17, Accuracy: 0.483, Node (conditional clause) Count: 1\n",
      "Delta: 1.18, Accuracy: 0.483, Node (conditional clause) Count: 1\n",
      "Delta: 1.19, Accuracy: 0.483, Node (conditional clause) Count: 1\n",
      "Delta: 1.2, Accuracy: 0.483, Node (conditional clause) Count: 1\n",
      "Delta: 1.21, Accuracy: 0.483, Node (conditional clause) Count: 1\n",
      "Delta: 1.22, Accuracy: 0.483, Node (conditional clause) Count: 1\n",
      "Delta: 1.23, Accuracy: 0.483, Node (conditional clause) Count: 1\n",
      "Delta: 1.24, Accuracy: 0.483, Node (conditional clause) Count: 1\n",
      "Delta: 1.25, Accuracy: 0.483, Node (conditional clause) Count: 1\n",
      "Delta: 1.26, Accuracy: 0.483, Node (conditional clause) Count: 1\n",
      "Delta: 1.27, Accuracy: 0.483, Node (conditional clause) Count: 1\n",
      "Delta: 1.28, Accuracy: 0.483, Node (conditional clause) Count: 1\n",
      "Delta: 1.29, Accuracy: 0.483, Node (conditional clause) Count: 1\n",
      "Delta: 1.3, Accuracy: 0.483, Node (conditional clause) Count: 1\n",
      "Delta: 1.31, Accuracy: 0.483, Node (conditional clause) Count: 1\n",
      "Delta: 1.32, Accuracy: 0.483, Node (conditional clause) Count: 1\n",
      "Delta: 1.33, Accuracy: 0.483, Node (conditional clause) Count: 1\n",
      "Delta: 1.34, Accuracy: 0.483, Node (conditional clause) Count: 1\n",
      "Delta: 1.35, Accuracy: 0.483, Node (conditional clause) Count: 1\n",
      "Delta: 1.36, Accuracy: 0.483, Node (conditional clause) Count: 1\n",
      "Delta: 1.37, Accuracy: 0.483, Node (conditional clause) Count: 1\n",
      "Delta: 1.38, Accuracy: 0.483, Node (conditional clause) Count: 1\n",
      "Delta: 1.39, Accuracy: 0.483, Node (conditional clause) Count: 1\n",
      "Delta: 1.4, Accuracy: 0.483, Node (conditional clause) Count: 1\n",
      "Delta: 1.41, Accuracy: 0.483, Node (conditional clause) Count: 1\n",
      "Delta: 1.42, Accuracy: 0.483, Node (conditional clause) Count: 1\n",
      "Delta: 1.43, Accuracy: 0.483, Node (conditional clause) Count: 1\n",
      "Delta: 1.44, Accuracy: 0.483, Node (conditional clause) Count: 1\n",
      "Delta: 1.45, Accuracy: 0.483, Node (conditional clause) Count: 1\n",
      "Delta: 1.46, Accuracy: 0.483, Node (conditional clause) Count: 1\n",
      "Delta: 1.47, Accuracy: 0.483, Node (conditional clause) Count: 1\n",
      "Delta: 1.48, Accuracy: 0.483, Node (conditional clause) Count: 1\n",
      "Delta: 1.49, Accuracy: 0.483, Node (conditional clause) Count: 1\n",
      "Delta: 1.5, Accuracy: 0.483, Node (conditional clause) Count: 1\n",
      "Delta: 1.51, Accuracy: 0.483, Node (conditional clause) Count: 1\n",
      "Delta: 1.52, Accuracy: 0.483, Node (conditional clause) Count: 1\n",
      "Delta: 1.53, Accuracy: 0.483, Node (conditional clause) Count: 1\n",
      "Delta: 1.54, Accuracy: 0.483, Node (conditional clause) Count: 1\n",
      "Delta: 1.55, Accuracy: 0.483, Node (conditional clause) Count: 1\n",
      "Delta: 1.56, Accuracy: 0.483, Node (conditional clause) Count: 1\n",
      "Delta: 1.57, Accuracy: 0.483, Node (conditional clause) Count: 1\n",
      "Delta: 1.58, Accuracy: 0.483, Node (conditional clause) Count: 1\n",
      "Delta: 1.59, Accuracy: 0.483, Node (conditional clause) Count: 1\n",
      "Delta: 1.6, Accuracy: 0.483, Node (conditional clause) Count: 1\n",
      "Delta: 1.61, Accuracy: 0.483, Node (conditional clause) Count: 1\n",
      "Delta: 1.62, Accuracy: 0.483, Node (conditional clause) Count: 1\n",
      "Delta: 1.63, Accuracy: 0.483, Node (conditional clause) Count: 1\n",
      "Delta: 1.64, Accuracy: 0.483, Node (conditional clause) Count: 1\n",
      "Delta: 1.65, Accuracy: 0.483, Node (conditional clause) Count: 1\n",
      "Delta: 1.66, Accuracy: 0.483, Node (conditional clause) Count: 1\n",
      "Delta: 1.67, Accuracy: 0.483, Node (conditional clause) Count: 1\n",
      "Delta: 1.68, Accuracy: 0.483, Node (conditional clause) Count: 1\n",
      "Delta: 1.69, Accuracy: 0.483, Node (conditional clause) Count: 1\n",
      "Delta: 1.7, Accuracy: 0.483, Node (conditional clause) Count: 1\n",
      "Delta: 1.71, Accuracy: 0.483, Node (conditional clause) Count: 1\n",
      "Delta: 1.72, Accuracy: 0.483, Node (conditional clause) Count: 1\n",
      "Delta: 1.73, Accuracy: 0.483, Node (conditional clause) Count: 1\n",
      "Delta: 1.74, Accuracy: 0.483, Node (conditional clause) Count: 1\n",
      "Delta: 1.75, Accuracy: 0.483, Node (conditional clause) Count: 1\n",
      "Delta: 1.76, Accuracy: 0.483, Node (conditional clause) Count: 1\n",
      "Delta: 1.77, Accuracy: 0.483, Node (conditional clause) Count: 1\n",
      "Delta: 1.78, Accuracy: 0.483, Node (conditional clause) Count: 1\n",
      "Delta: 1.79, Accuracy: 0.483, Node (conditional clause) Count: 1\n",
      "Delta: 1.8, Accuracy: 0.483, Node (conditional clause) Count: 1\n",
      "Delta: 1.81, Accuracy: 0.483, Node (conditional clause) Count: 1\n",
      "Delta: 1.82, Accuracy: 0.483, Node (conditional clause) Count: 1\n",
      "Delta: 1.83, Accuracy: 0.483, Node (conditional clause) Count: 1\n",
      "Delta: 1.84, Accuracy: 0.483, Node (conditional clause) Count: 1\n",
      "Delta: 1.85, Accuracy: 0.483, Node (conditional clause) Count: 1\n",
      "Delta: 1.86, Accuracy: 0.483, Node (conditional clause) Count: 1\n",
      "Delta: 1.87, Accuracy: 0.483, Node (conditional clause) Count: 1\n",
      "Delta: 1.88, Accuracy: 0.483, Node (conditional clause) Count: 1\n",
      "Delta: 1.89, Accuracy: 0.483, Node (conditional clause) Count: 1\n",
      "Delta: 1.9, Accuracy: 0.483, Node (conditional clause) Count: 1\n",
      "Delta: 1.91, Accuracy: 0.483, Node (conditional clause) Count: 1\n",
      "Delta: 1.92, Accuracy: 0.483, Node (conditional clause) Count: 1\n",
      "Delta: 1.93, Accuracy: 0.483, Node (conditional clause) Count: 1\n",
      "Delta: 1.94, Accuracy: 0.483, Node (conditional clause) Count: 1\n",
      "Delta: 1.95, Accuracy: 0.483, Node (conditional clause) Count: 1\n",
      "Delta: 1.96, Accuracy: 0.483, Node (conditional clause) Count: 1\n",
      "Delta: 1.97, Accuracy: 0.483, Node (conditional clause) Count: 1\n",
      "Delta: 1.98, Accuracy: 0.483, Node (conditional clause) Count: 1\n",
      "Delta: 1.99, Accuracy: 0.483, Node (conditional clause) Count: 1\n"
     ]
    }
   ],
   "source": [
    "tree = build_tree_info(X_train, y_train, max_depth=9)\n",
    "y_pred = [predict(sample, tree) for sample in X_test]\n",
    "\n",
    "# Calculate the accuracy\n",
    "accuracy = round(accuracy_score(y_test, y_pred),3)\n",
    "print(f\"Max Depth: 9, Accuracy: {accuracy}, Node (conditional clause) Count: {count_nodes(tree)}\")\n",
    "\n",
    "# Prune tree and test\n",
    "for delta in np.arange(0,2,.01):\n",
    "    pruned_tree = prune(tree, X_train, y_train, delta=delta)\n",
    "    y_pred = [predict(sample, pruned_tree) for sample in X_test]\n",
    "\n",
    "    accuracy = round(accuracy_score(y_test, y_pred),3)\n",
    "    print(f\"Delta: {round(delta,2)}, Accuracy: {accuracy}, Node (conditional clause) Count: {count_nodes(tree)}\")"
   ]
  },
  {
   "cell_type": "markdown",
   "metadata": {},
   "source": [
    "##### Iris dataset"
   ]
  },
  {
   "cell_type": "code",
   "execution_count": 253,
   "metadata": {},
   "outputs": [],
   "source": [
    "# Load the Iris dataset\n",
    "iris = load_iris()\n",
    "\n",
    "# The features are stored in iris.data and the targets in iris.target\n",
    "X = iris.data\n",
    "y = iris.target\n",
    "\n",
    "# Filter the data to only include the first two classes\n",
    "mask = y < 2\n",
    "X = X[mask]\n",
    "y = y[mask]\n",
    "\n",
    "# First split the data into training set and test set\n",
    "X_train, X_test, y_train, y_test = train_test_split(X, y, test_size=0.1, random_state=42)"
   ]
  },
  {
   "cell_type": "markdown",
   "metadata": {},
   "source": [
    "#### Algorithm 8"
   ]
  },
  {
   "cell_type": "code",
   "execution_count": 254,
   "metadata": {},
   "outputs": [
    {
     "name": "stdout",
     "output_type": "stream",
     "text": [
      "num thresholds = 91\n",
      "accuracy: 1.0\n"
     ]
    }
   ],
   "source": [
    "alg8(X_train, y_train, X_test, y_test)"
   ]
  },
  {
   "cell_type": "markdown",
   "metadata": {},
   "source": [
    "#### Max depth test for info decision tree"
   ]
  },
  {
   "cell_type": "code",
   "execution_count": 255,
   "metadata": {},
   "outputs": [
    {
     "name": "stdout",
     "output_type": "stream",
     "text": [
      "Max Depth: 0, Accuracy: 0.4, Node (conditional clause) Count: 0\n",
      "Max Depth: 1, Accuracy: 1.0, Node (conditional clause) Count: 1\n",
      "Max Depth: 2, Accuracy: 1.0, Node (conditional clause) Count: 1\n",
      "Max Depth: 3, Accuracy: 1.0, Node (conditional clause) Count: 1\n",
      "Max Depth: 4, Accuracy: 1.0, Node (conditional clause) Count: 1\n",
      "Max Depth: 5, Accuracy: 1.0, Node (conditional clause) Count: 1\n",
      "Max Depth: 6, Accuracy: 1.0, Node (conditional clause) Count: 1\n",
      "Max Depth: 7, Accuracy: 1.0, Node (conditional clause) Count: 1\n",
      "Max Depth: 8, Accuracy: 1.0, Node (conditional clause) Count: 1\n",
      "Max Depth: 9, Accuracy: 1.0, Node (conditional clause) Count: 1\n"
     ]
    }
   ],
   "source": [
    "for max_depth in range(10):\n",
    "    # Build the decision tree\n",
    "    tree = build_tree_info(X_train, y_train, max_depth=max_depth)\n",
    "\n",
    "    # Use the decision tree to make predictions on the test set\n",
    "    y_pred = [predict(sample, tree) for sample in X_test]\n",
    "\n",
    "    # Calculate the accuracy\n",
    "    accuracy = round(accuracy_score(y_test, y_pred),3)\n",
    "    print(f\"Max Depth: {max_depth}, Accuracy: {accuracy}, Node (conditional clause) Count: {count_nodes(tree)}\")"
   ]
  },
  {
   "cell_type": "markdown",
   "metadata": {},
   "source": [
    "#### Max depth test for gini decision tree"
   ]
  },
  {
   "cell_type": "code",
   "execution_count": 256,
   "metadata": {},
   "outputs": [
    {
     "name": "stdout",
     "output_type": "stream",
     "text": [
      "Max Depth: 0, Accuracy: 0.4, Node (conditional clause) Count: 0\n",
      "Max Depth: 1, Accuracy: 1.0, Node (conditional clause) Count: 1\n",
      "Max Depth: 2, Accuracy: 1.0, Node (conditional clause) Count: 1\n",
      "Max Depth: 3, Accuracy: 1.0, Node (conditional clause) Count: 1\n",
      "Max Depth: 4, Accuracy: 1.0, Node (conditional clause) Count: 1\n",
      "Max Depth: 5, Accuracy: 1.0, Node (conditional clause) Count: 1\n",
      "Max Depth: 6, Accuracy: 1.0, Node (conditional clause) Count: 1\n",
      "Max Depth: 7, Accuracy: 1.0, Node (conditional clause) Count: 1\n",
      "Max Depth: 8, Accuracy: 1.0, Node (conditional clause) Count: 1\n",
      "Max Depth: 9, Accuracy: 1.0, Node (conditional clause) Count: 1\n"
     ]
    }
   ],
   "source": [
    "for max_depth in range(10):\n",
    "    # Build the decision tree\n",
    "    tree = build_tree_gini(X_train, y_train, max_depth=max_depth)\n",
    "\n",
    "    # Use the decision tree to make predictions on the test set\n",
    "    y_pred = [predict(sample, tree) for sample in X_test]\n",
    "\n",
    "    # Calculate the accuracy\n",
    "    accuracy = round(accuracy_score(y_test, y_pred),3)\n",
    "    print(f\"Max Depth: {max_depth}, Accuracy: {accuracy}, Node (conditional clause) Count: {count_nodes(tree)}\")"
   ]
  },
  {
   "cell_type": "markdown",
   "metadata": {},
   "source": [
    "#### Pruning"
   ]
  },
  {
   "cell_type": "code",
   "execution_count": 257,
   "metadata": {},
   "outputs": [
    {
     "name": "stdout",
     "output_type": "stream",
     "text": [
      "Max Depth: 2, Accuracy: 1.0, Node (conditional clause) Count: 1\n",
      "Delta: 0.0, Accuracy: 1.0, Node (conditional clause) Count: 1\n",
      "Delta: 0.01, Accuracy: 1.0, Node (conditional clause) Count: 1\n",
      "Delta: 0.02, Accuracy: 1.0, Node (conditional clause) Count: 1\n",
      "Delta: 0.03, Accuracy: 1.0, Node (conditional clause) Count: 1\n",
      "Delta: 0.04, Accuracy: 1.0, Node (conditional clause) Count: 1\n",
      "Delta: 0.05, Accuracy: 1.0, Node (conditional clause) Count: 1\n",
      "Delta: 0.06, Accuracy: 1.0, Node (conditional clause) Count: 1\n",
      "Delta: 0.07, Accuracy: 1.0, Node (conditional clause) Count: 1\n",
      "Delta: 0.08, Accuracy: 1.0, Node (conditional clause) Count: 1\n",
      "Delta: 0.09, Accuracy: 1.0, Node (conditional clause) Count: 1\n",
      "Delta: 0.1, Accuracy: 1.0, Node (conditional clause) Count: 1\n",
      "Delta: 0.11, Accuracy: 1.0, Node (conditional clause) Count: 1\n",
      "Delta: 0.12, Accuracy: 1.0, Node (conditional clause) Count: 1\n",
      "Delta: 0.13, Accuracy: 1.0, Node (conditional clause) Count: 1\n",
      "Delta: 0.14, Accuracy: 1.0, Node (conditional clause) Count: 1\n",
      "Delta: 0.15, Accuracy: 1.0, Node (conditional clause) Count: 1\n",
      "Delta: 0.16, Accuracy: 1.0, Node (conditional clause) Count: 1\n",
      "Delta: 0.17, Accuracy: 1.0, Node (conditional clause) Count: 1\n",
      "Delta: 0.18, Accuracy: 1.0, Node (conditional clause) Count: 1\n",
      "Delta: 0.19, Accuracy: 1.0, Node (conditional clause) Count: 1\n",
      "Delta: 0.2, Accuracy: 1.0, Node (conditional clause) Count: 1\n",
      "Delta: 0.21, Accuracy: 1.0, Node (conditional clause) Count: 1\n",
      "Delta: 0.22, Accuracy: 1.0, Node (conditional clause) Count: 1\n",
      "Delta: 0.23, Accuracy: 1.0, Node (conditional clause) Count: 1\n",
      "Delta: 0.24, Accuracy: 1.0, Node (conditional clause) Count: 1\n",
      "Delta: 0.25, Accuracy: 1.0, Node (conditional clause) Count: 1\n",
      "Delta: 0.26, Accuracy: 1.0, Node (conditional clause) Count: 1\n",
      "Delta: 0.27, Accuracy: 1.0, Node (conditional clause) Count: 1\n",
      "Delta: 0.28, Accuracy: 1.0, Node (conditional clause) Count: 1\n",
      "Delta: 0.29, Accuracy: 1.0, Node (conditional clause) Count: 1\n",
      "Delta: 0.3, Accuracy: 1.0, Node (conditional clause) Count: 1\n",
      "Delta: 0.31, Accuracy: 1.0, Node (conditional clause) Count: 1\n",
      "Delta: 0.32, Accuracy: 1.0, Node (conditional clause) Count: 1\n",
      "Delta: 0.33, Accuracy: 1.0, Node (conditional clause) Count: 1\n",
      "Delta: 0.34, Accuracy: 1.0, Node (conditional clause) Count: 1\n",
      "Delta: 0.35, Accuracy: 1.0, Node (conditional clause) Count: 1\n",
      "Delta: 0.36, Accuracy: 1.0, Node (conditional clause) Count: 1\n",
      "Delta: 0.37, Accuracy: 1.0, Node (conditional clause) Count: 1\n",
      "Delta: 0.38, Accuracy: 1.0, Node (conditional clause) Count: 1\n",
      "Delta: 0.39, Accuracy: 1.0, Node (conditional clause) Count: 1\n",
      "Delta: 0.4, Accuracy: 1.0, Node (conditional clause) Count: 1\n",
      "Delta: 0.41, Accuracy: 0.6, Node (conditional clause) Count: 1\n",
      "Delta: 0.42, Accuracy: 0.6, Node (conditional clause) Count: 1\n",
      "Delta: 0.43, Accuracy: 0.6, Node (conditional clause) Count: 1\n",
      "Delta: 0.44, Accuracy: 0.6, Node (conditional clause) Count: 1\n",
      "Delta: 0.45, Accuracy: 0.6, Node (conditional clause) Count: 1\n",
      "Delta: 0.46, Accuracy: 0.6, Node (conditional clause) Count: 1\n",
      "Delta: 0.47, Accuracy: 0.6, Node (conditional clause) Count: 1\n",
      "Delta: 0.48, Accuracy: 0.6, Node (conditional clause) Count: 1\n",
      "Delta: 0.49, Accuracy: 0.6, Node (conditional clause) Count: 1\n",
      "Delta: 0.5, Accuracy: 0.6, Node (conditional clause) Count: 1\n",
      "Delta: 0.51, Accuracy: 0.6, Node (conditional clause) Count: 1\n",
      "Delta: 0.52, Accuracy: 0.6, Node (conditional clause) Count: 1\n",
      "Delta: 0.53, Accuracy: 0.6, Node (conditional clause) Count: 1\n",
      "Delta: 0.54, Accuracy: 0.6, Node (conditional clause) Count: 1\n",
      "Delta: 0.55, Accuracy: 0.6, Node (conditional clause) Count: 1\n",
      "Delta: 0.56, Accuracy: 0.6, Node (conditional clause) Count: 1\n",
      "Delta: 0.57, Accuracy: 0.6, Node (conditional clause) Count: 1\n",
      "Delta: 0.58, Accuracy: 0.6, Node (conditional clause) Count: 1\n",
      "Delta: 0.59, Accuracy: 0.6, Node (conditional clause) Count: 1\n",
      "Delta: 0.6, Accuracy: 0.6, Node (conditional clause) Count: 1\n",
      "Delta: 0.61, Accuracy: 0.6, Node (conditional clause) Count: 1\n",
      "Delta: 0.62, Accuracy: 0.6, Node (conditional clause) Count: 1\n",
      "Delta: 0.63, Accuracy: 0.6, Node (conditional clause) Count: 1\n",
      "Delta: 0.64, Accuracy: 0.6, Node (conditional clause) Count: 1\n",
      "Delta: 0.65, Accuracy: 0.6, Node (conditional clause) Count: 1\n",
      "Delta: 0.66, Accuracy: 0.6, Node (conditional clause) Count: 1\n",
      "Delta: 0.67, Accuracy: 0.6, Node (conditional clause) Count: 1\n",
      "Delta: 0.68, Accuracy: 0.6, Node (conditional clause) Count: 1\n",
      "Delta: 0.69, Accuracy: 0.6, Node (conditional clause) Count: 1\n",
      "Delta: 0.7, Accuracy: 0.6, Node (conditional clause) Count: 1\n",
      "Delta: 0.71, Accuracy: 0.6, Node (conditional clause) Count: 1\n",
      "Delta: 0.72, Accuracy: 0.6, Node (conditional clause) Count: 1\n",
      "Delta: 0.73, Accuracy: 0.6, Node (conditional clause) Count: 1\n",
      "Delta: 0.74, Accuracy: 0.6, Node (conditional clause) Count: 1\n",
      "Delta: 0.75, Accuracy: 0.6, Node (conditional clause) Count: 1\n",
      "Delta: 0.76, Accuracy: 0.6, Node (conditional clause) Count: 1\n",
      "Delta: 0.77, Accuracy: 0.6, Node (conditional clause) Count: 1\n",
      "Delta: 0.78, Accuracy: 0.6, Node (conditional clause) Count: 1\n",
      "Delta: 0.79, Accuracy: 0.6, Node (conditional clause) Count: 1\n",
      "Delta: 0.8, Accuracy: 0.6, Node (conditional clause) Count: 1\n",
      "Delta: 0.81, Accuracy: 0.6, Node (conditional clause) Count: 1\n",
      "Delta: 0.82, Accuracy: 0.6, Node (conditional clause) Count: 1\n",
      "Delta: 0.83, Accuracy: 0.6, Node (conditional clause) Count: 1\n",
      "Delta: 0.84, Accuracy: 0.6, Node (conditional clause) Count: 1\n",
      "Delta: 0.85, Accuracy: 0.6, Node (conditional clause) Count: 1\n",
      "Delta: 0.86, Accuracy: 0.6, Node (conditional clause) Count: 1\n",
      "Delta: 0.87, Accuracy: 0.6, Node (conditional clause) Count: 1\n",
      "Delta: 0.88, Accuracy: 0.6, Node (conditional clause) Count: 1\n",
      "Delta: 0.89, Accuracy: 0.6, Node (conditional clause) Count: 1\n",
      "Delta: 0.9, Accuracy: 0.6, Node (conditional clause) Count: 1\n",
      "Delta: 0.91, Accuracy: 0.6, Node (conditional clause) Count: 1\n",
      "Delta: 0.92, Accuracy: 0.6, Node (conditional clause) Count: 1\n",
      "Delta: 0.93, Accuracy: 0.6, Node (conditional clause) Count: 1\n",
      "Delta: 0.94, Accuracy: 0.6, Node (conditional clause) Count: 1\n",
      "Delta: 0.95, Accuracy: 0.6, Node (conditional clause) Count: 1\n",
      "Delta: 0.96, Accuracy: 0.6, Node (conditional clause) Count: 1\n",
      "Delta: 0.97, Accuracy: 0.6, Node (conditional clause) Count: 1\n",
      "Delta: 0.98, Accuracy: 0.6, Node (conditional clause) Count: 1\n",
      "Delta: 0.99, Accuracy: 0.6, Node (conditional clause) Count: 1\n",
      "Delta: 1.0, Accuracy: 0.6, Node (conditional clause) Count: 1\n",
      "Delta: 1.01, Accuracy: 0.6, Node (conditional clause) Count: 1\n",
      "Delta: 1.02, Accuracy: 0.6, Node (conditional clause) Count: 1\n",
      "Delta: 1.03, Accuracy: 0.6, Node (conditional clause) Count: 1\n",
      "Delta: 1.04, Accuracy: 0.6, Node (conditional clause) Count: 1\n",
      "Delta: 1.05, Accuracy: 0.6, Node (conditional clause) Count: 1\n",
      "Delta: 1.06, Accuracy: 0.6, Node (conditional clause) Count: 1\n",
      "Delta: 1.07, Accuracy: 0.6, Node (conditional clause) Count: 1\n",
      "Delta: 1.08, Accuracy: 0.6, Node (conditional clause) Count: 1\n",
      "Delta: 1.09, Accuracy: 0.6, Node (conditional clause) Count: 1\n",
      "Delta: 1.1, Accuracy: 0.6, Node (conditional clause) Count: 1\n",
      "Delta: 1.11, Accuracy: 0.6, Node (conditional clause) Count: 1\n",
      "Delta: 1.12, Accuracy: 0.6, Node (conditional clause) Count: 1\n",
      "Delta: 1.13, Accuracy: 0.6, Node (conditional clause) Count: 1\n",
      "Delta: 1.14, Accuracy: 0.6, Node (conditional clause) Count: 1\n",
      "Delta: 1.15, Accuracy: 0.6, Node (conditional clause) Count: 1\n",
      "Delta: 1.16, Accuracy: 0.6, Node (conditional clause) Count: 1\n",
      "Delta: 1.17, Accuracy: 0.6, Node (conditional clause) Count: 1\n",
      "Delta: 1.18, Accuracy: 0.6, Node (conditional clause) Count: 1\n",
      "Delta: 1.19, Accuracy: 0.6, Node (conditional clause) Count: 1\n",
      "Delta: 1.2, Accuracy: 0.6, Node (conditional clause) Count: 1\n",
      "Delta: 1.21, Accuracy: 0.6, Node (conditional clause) Count: 1\n",
      "Delta: 1.22, Accuracy: 0.6, Node (conditional clause) Count: 1\n",
      "Delta: 1.23, Accuracy: 0.6, Node (conditional clause) Count: 1\n",
      "Delta: 1.24, Accuracy: 0.6, Node (conditional clause) Count: 1\n",
      "Delta: 1.25, Accuracy: 0.6, Node (conditional clause) Count: 1\n",
      "Delta: 1.26, Accuracy: 0.6, Node (conditional clause) Count: 1\n",
      "Delta: 1.27, Accuracy: 0.6, Node (conditional clause) Count: 1\n",
      "Delta: 1.28, Accuracy: 0.6, Node (conditional clause) Count: 1\n",
      "Delta: 1.29, Accuracy: 0.6, Node (conditional clause) Count: 1\n",
      "Delta: 1.3, Accuracy: 0.6, Node (conditional clause) Count: 1\n",
      "Delta: 1.31, Accuracy: 0.6, Node (conditional clause) Count: 1\n",
      "Delta: 1.32, Accuracy: 0.6, Node (conditional clause) Count: 1\n",
      "Delta: 1.33, Accuracy: 0.6, Node (conditional clause) Count: 1\n",
      "Delta: 1.34, Accuracy: 0.6, Node (conditional clause) Count: 1\n",
      "Delta: 1.35, Accuracy: 0.6, Node (conditional clause) Count: 1\n",
      "Delta: 1.36, Accuracy: 0.6, Node (conditional clause) Count: 1\n",
      "Delta: 1.37, Accuracy: 0.6, Node (conditional clause) Count: 1\n",
      "Delta: 1.38, Accuracy: 0.6, Node (conditional clause) Count: 1\n",
      "Delta: 1.39, Accuracy: 0.6, Node (conditional clause) Count: 1\n",
      "Delta: 1.4, Accuracy: 0.6, Node (conditional clause) Count: 1\n",
      "Delta: 1.41, Accuracy: 0.6, Node (conditional clause) Count: 1\n",
      "Delta: 1.42, Accuracy: 0.6, Node (conditional clause) Count: 1\n",
      "Delta: 1.43, Accuracy: 0.6, Node (conditional clause) Count: 1\n",
      "Delta: 1.44, Accuracy: 0.6, Node (conditional clause) Count: 1\n",
      "Delta: 1.45, Accuracy: 0.6, Node (conditional clause) Count: 1\n",
      "Delta: 1.46, Accuracy: 0.6, Node (conditional clause) Count: 1\n",
      "Delta: 1.47, Accuracy: 0.6, Node (conditional clause) Count: 1\n",
      "Delta: 1.48, Accuracy: 0.6, Node (conditional clause) Count: 1\n",
      "Delta: 1.49, Accuracy: 0.6, Node (conditional clause) Count: 1\n",
      "Delta: 1.5, Accuracy: 0.6, Node (conditional clause) Count: 1\n",
      "Delta: 1.51, Accuracy: 0.6, Node (conditional clause) Count: 1\n",
      "Delta: 1.52, Accuracy: 0.6, Node (conditional clause) Count: 1\n",
      "Delta: 1.53, Accuracy: 0.6, Node (conditional clause) Count: 1\n",
      "Delta: 1.54, Accuracy: 0.6, Node (conditional clause) Count: 1\n",
      "Delta: 1.55, Accuracy: 0.6, Node (conditional clause) Count: 1\n",
      "Delta: 1.56, Accuracy: 0.6, Node (conditional clause) Count: 1\n",
      "Delta: 1.57, Accuracy: 0.6, Node (conditional clause) Count: 1\n",
      "Delta: 1.58, Accuracy: 0.6, Node (conditional clause) Count: 1\n",
      "Delta: 1.59, Accuracy: 0.6, Node (conditional clause) Count: 1\n",
      "Delta: 1.6, Accuracy: 0.6, Node (conditional clause) Count: 1\n",
      "Delta: 1.61, Accuracy: 0.6, Node (conditional clause) Count: 1\n",
      "Delta: 1.62, Accuracy: 0.6, Node (conditional clause) Count: 1\n",
      "Delta: 1.63, Accuracy: 0.6, Node (conditional clause) Count: 1\n",
      "Delta: 1.64, Accuracy: 0.6, Node (conditional clause) Count: 1\n",
      "Delta: 1.65, Accuracy: 0.6, Node (conditional clause) Count: 1\n",
      "Delta: 1.66, Accuracy: 0.6, Node (conditional clause) Count: 1\n",
      "Delta: 1.67, Accuracy: 0.6, Node (conditional clause) Count: 1\n",
      "Delta: 1.68, Accuracy: 0.6, Node (conditional clause) Count: 1\n",
      "Delta: 1.69, Accuracy: 0.6, Node (conditional clause) Count: 1\n",
      "Delta: 1.7, Accuracy: 0.6, Node (conditional clause) Count: 1\n",
      "Delta: 1.71, Accuracy: 0.6, Node (conditional clause) Count: 1\n",
      "Delta: 1.72, Accuracy: 0.6, Node (conditional clause) Count: 1\n",
      "Delta: 1.73, Accuracy: 0.6, Node (conditional clause) Count: 1\n",
      "Delta: 1.74, Accuracy: 0.6, Node (conditional clause) Count: 1\n",
      "Delta: 1.75, Accuracy: 0.6, Node (conditional clause) Count: 1\n",
      "Delta: 1.76, Accuracy: 0.6, Node (conditional clause) Count: 1\n",
      "Delta: 1.77, Accuracy: 0.6, Node (conditional clause) Count: 1\n",
      "Delta: 1.78, Accuracy: 0.6, Node (conditional clause) Count: 1\n",
      "Delta: 1.79, Accuracy: 0.6, Node (conditional clause) Count: 1\n",
      "Delta: 1.8, Accuracy: 0.6, Node (conditional clause) Count: 1\n",
      "Delta: 1.81, Accuracy: 0.6, Node (conditional clause) Count: 1\n",
      "Delta: 1.82, Accuracy: 0.6, Node (conditional clause) Count: 1\n",
      "Delta: 1.83, Accuracy: 0.6, Node (conditional clause) Count: 1\n",
      "Delta: 1.84, Accuracy: 0.6, Node (conditional clause) Count: 1\n",
      "Delta: 1.85, Accuracy: 0.6, Node (conditional clause) Count: 1\n",
      "Delta: 1.86, Accuracy: 0.6, Node (conditional clause) Count: 1\n",
      "Delta: 1.87, Accuracy: 0.6, Node (conditional clause) Count: 1\n",
      "Delta: 1.88, Accuracy: 0.6, Node (conditional clause) Count: 1\n",
      "Delta: 1.89, Accuracy: 0.6, Node (conditional clause) Count: 1\n",
      "Delta: 1.9, Accuracy: 0.6, Node (conditional clause) Count: 1\n",
      "Delta: 1.91, Accuracy: 0.6, Node (conditional clause) Count: 1\n",
      "Delta: 1.92, Accuracy: 0.6, Node (conditional clause) Count: 1\n",
      "Delta: 1.93, Accuracy: 0.6, Node (conditional clause) Count: 1\n",
      "Delta: 1.94, Accuracy: 0.6, Node (conditional clause) Count: 1\n",
      "Delta: 1.95, Accuracy: 0.6, Node (conditional clause) Count: 1\n",
      "Delta: 1.96, Accuracy: 0.6, Node (conditional clause) Count: 1\n",
      "Delta: 1.97, Accuracy: 0.6, Node (conditional clause) Count: 1\n",
      "Delta: 1.98, Accuracy: 0.6, Node (conditional clause) Count: 1\n",
      "Delta: 1.99, Accuracy: 0.6, Node (conditional clause) Count: 1\n"
     ]
    }
   ],
   "source": [
    "tree = build_tree_info(X_train, y_train, max_depth=2)\n",
    "y_pred = [predict(sample, tree) for sample in X_test]\n",
    "\n",
    "# Calculate the accuracy\n",
    "accuracy = round(accuracy_score(y_test, y_pred),3)\n",
    "print(f\"Max Depth: 2, Accuracy: {accuracy}, Node (conditional clause) Count: {count_nodes(tree)}\")\n",
    "\n",
    "# Prune tree and test\n",
    "for delta in np.arange(0,2,.01):\n",
    "    pruned_tree = prune(tree, X_test, y_test, delta=delta)\n",
    "    y_pred = [predict(sample, pruned_tree) for sample in X_test]\n",
    "\n",
    "    accuracy = round(accuracy_score(y_test, y_pred),3)\n",
    "    print(f\"Delta: {round(delta,2)}, Accuracy: {accuracy}, Node (conditional clause) Count: {count_nodes(tree)}\")"
   ]
  },
  {
   "cell_type": "markdown",
   "metadata": {},
   "source": [
    "## 2c Completely Random Artificial dataset"
   ]
  },
  {
   "cell_type": "code",
   "execution_count": 258,
   "metadata": {},
   "outputs": [],
   "source": [
    "def test_trees(X_train, X_test, y_train, y_test, max_depth):\n",
    "    # Build the decision tree\n",
    "    tree_gini = build_tree_gini(X_train, y_train, max_depth=max_depth)\n",
    "\n",
    "    # Use the decision tree to make predictions on the test set\n",
    "    y_pred_gini = [predict(sample, tree_gini) for sample in X_test]\n",
    "\n",
    "    # Calculate the accuracy\n",
    "    accuracy_gini = round(accuracy_score(y_test, y_pred_gini),3)\n",
    "\n",
    "    return count_nodes(tree_gini), accuracy_gini"
   ]
  },
  {
   "cell_type": "code",
   "execution_count": 259,
   "metadata": {},
   "outputs": [
    {
     "name": "stdout",
     "output_type": "stream",
     "text": [
      "alg8:\n",
      "num thresholds = 901\n",
      "accuracy: 0.52\n",
      "Gini:\n",
      "Max Depth: 0, Node count: 0, Accuracy (Gini): 0.45\n",
      "Max Depth: 1, Node count: 1, Accuracy (Gini): 0.69\n",
      "Max Depth: 2, Node count: 3, Accuracy (Gini): 0.71\n",
      "Max Depth: 3, Node count: 7, Accuracy (Gini): 0.76\n",
      "Max Depth: 4, Node count: 15, Accuracy (Gini): 0.79\n",
      "Max Depth: 5, Node count: 27, Accuracy (Gini): 0.82\n",
      "Max Depth: 6, Node count: 41, Accuracy (Gini): 0.81\n",
      "Max Depth: 7, Node count: 55, Accuracy (Gini): 0.83\n",
      "Max Depth: 8, Node count: 64, Accuracy (Gini): 0.84\n",
      "Max Depth: 9, Node count: 72, Accuracy (Gini): 0.87\n"
     ]
    }
   ],
   "source": [
    "X, y = make_classification(n_samples=1000, n_features=10, n_informative=10, n_redundant=0, n_classes=2, random_state=42)\n",
    "\n",
    "# First split the data into training set and test set\n",
    "X_train, X_test, y_train, y_test = train_test_split(X, y, test_size=0.1, random_state=42)\n",
    "\n",
    "print(\"alg8:\")\n",
    "alg8(X_train, y_train, X_test, y_test)\n",
    "\n",
    "print(\"Gini:\")\n",
    "for max_depth in range(10):\n",
    "    nodes_gini, accuracy_gini = test_trees(X_train, X_test, y_train, y_test, max_depth)\n",
    "    print(f\"Max Depth: {max_depth}, Node count: {nodes_gini}, Accuracy (Gini): {accuracy_gini}\")"
   ]
  },
  {
   "cell_type": "markdown",
   "metadata": {},
   "source": [
    "### vary instances"
   ]
  },
  {
   "cell_type": "code",
   "execution_count": 260,
   "metadata": {},
   "outputs": [
    {
     "name": "stdout",
     "output_type": "stream",
     "text": [
      "alg8:\n",
      "num thresholds = 91\n",
      "accuracy: 0.5\n",
      "Gini:\n",
      "Max Depth: 0, Node count: 0, Accuracy (Gini): 0.5\n",
      "Max Depth: 1, Node count: 1, Accuracy (Gini): 0.7\n",
      "Max Depth: 2, Node count: 3, Accuracy (Gini): 0.8\n",
      "Max Depth: 3, Node count: 6, Accuracy (Gini): 0.8\n",
      "Max Depth: 4, Node count: 8, Accuracy (Gini): 0.8\n",
      "Max Depth: 5, Node count: 10, Accuracy (Gini): 0.8\n",
      "Max Depth: 6, Node count: 11, Accuracy (Gini): 0.8\n",
      "Max Depth: 7, Node count: 12, Accuracy (Gini): 0.8\n",
      "Max Depth: 8, Node count: 12, Accuracy (Gini): 0.8\n",
      "Max Depth: 9, Node count: 12, Accuracy (Gini): 0.8\n"
     ]
    }
   ],
   "source": [
    "X, y = make_classification(n_samples=100, n_features=10, n_informative=10, n_redundant=0, n_classes=2, random_state=42)\n",
    "\n",
    "# First split the data into training set and test set\n",
    "X_train, X_test, y_train, y_test = train_test_split(X, y, test_size=0.1, random_state=42)\n",
    "\n",
    "print(\"alg8:\")\n",
    "alg8(X_train, y_train, X_test, y_test)\n",
    "\n",
    "print(\"Gini:\")\n",
    "\n",
    "for max_depth in range(10):\n",
    "    nodes_gini, accuracy_gini = test_trees(X_train, X_test, y_train, y_test, max_depth)\n",
    "    print(f\"Max Depth: {max_depth}, Node count: {nodes_gini}, Accuracy (Gini): {accuracy_gini}\")"
   ]
  },
  {
   "cell_type": "code",
   "execution_count": 261,
   "metadata": {},
   "outputs": [
    {
     "name": "stdout",
     "output_type": "stream",
     "text": [
      "alg8:\n",
      "num thresholds = 451\n",
      "accuracy: 0.58\n",
      "Gini:\n",
      "Max Depth: 0, Node count: 0, Accuracy (Gini): 0.4\n",
      "Max Depth: 1, Node count: 1, Accuracy (Gini): 0.58\n",
      "Max Depth: 2, Node count: 3, Accuracy (Gini): 0.66\n",
      "Max Depth: 3, Node count: 7, Accuracy (Gini): 0.68\n",
      "Max Depth: 4, Node count: 11, Accuracy (Gini): 0.7\n",
      "Max Depth: 5, Node count: 16, Accuracy (Gini): 0.64\n",
      "Max Depth: 6, Node count: 21, Accuracy (Gini): 0.78\n",
      "Max Depth: 7, Node count: 30, Accuracy (Gini): 0.74\n",
      "Max Depth: 8, Node count: 37, Accuracy (Gini): 0.78\n",
      "Max Depth: 9, Node count: 42, Accuracy (Gini): 0.76\n"
     ]
    }
   ],
   "source": [
    "X, y = make_classification(n_samples=500, n_features=10, n_informative=10, n_redundant=0, n_classes=2, random_state=42)\n",
    "\n",
    "# First split the data into training set and test set\n",
    "X_train, X_test, y_train, y_test = train_test_split(X, y, test_size=0.1, random_state=42)\n",
    "\n",
    "print(\"alg8:\")\n",
    "alg8(X_train, y_train, X_test, y_test)\n",
    "\n",
    "print(\"Gini:\")\n",
    "\n",
    "for max_depth in range(10):\n",
    "    nodes_gini, accuracy_gini = test_trees(X_train, X_test, y_train, y_test, max_depth)\n",
    "    print(f\"Max Depth: {max_depth}, Node count: {nodes_gini}, Accuracy (Gini): {accuracy_gini}\")"
   ]
  },
  {
   "cell_type": "markdown",
   "metadata": {},
   "source": [
    "### Vary input columns"
   ]
  },
  {
   "cell_type": "code",
   "execution_count": 262,
   "metadata": {},
   "outputs": [
    {
     "name": "stdout",
     "output_type": "stream",
     "text": [
      "alg8:\n",
      "num thresholds = 901\n",
      "accuracy: 0.64\n",
      "Gini:\n",
      "Max Depth: 0, Node count: 0, Accuracy (Gini): 0.51\n",
      "Max Depth: 1, Node count: 1, Accuracy (Gini): 0.91\n",
      "Max Depth: 2, Node count: 3, Accuracy (Gini): 0.91\n",
      "Max Depth: 3, Node count: 7, Accuracy (Gini): 0.95\n",
      "Max Depth: 4, Node count: 13, Accuracy (Gini): 0.92\n",
      "Max Depth: 5, Node count: 22, Accuracy (Gini): 0.92\n",
      "Max Depth: 6, Node count: 32, Accuracy (Gini): 0.92\n",
      "Max Depth: 7, Node count: 45, Accuracy (Gini): 0.92\n",
      "Max Depth: 8, Node count: 57, Accuracy (Gini): 0.91\n",
      "Max Depth: 9, Node count: 67, Accuracy (Gini): 0.91\n"
     ]
    }
   ],
   "source": [
    "X, y = make_classification(n_samples=1000, n_features=2, n_informative=2, n_redundant=0, n_classes=2, random_state=42)\n",
    "\n",
    "# First split the data into training set and test set\n",
    "X_train, X_test, y_train, y_test = train_test_split(X, y, test_size=0.1, random_state=42)\n",
    "\n",
    "\n",
    "print(\"alg8:\")\n",
    "alg8(X_train, y_train, X_test, y_test)\n",
    "\n",
    "print(\"Gini:\")\n",
    "\n",
    "for max_depth in range(10):\n",
    "    nodes_gini, accuracy_gini = test_trees(X_train, X_test, y_train, y_test, max_depth)\n",
    "    print(f\"Max Depth: {max_depth}, Node count: {nodes_gini}, Accuracy (Gini): {accuracy_gini}\")"
   ]
  },
  {
   "cell_type": "code",
   "execution_count": 263,
   "metadata": {},
   "outputs": [
    {
     "name": "stdout",
     "output_type": "stream",
     "text": [
      "alg8:\n",
      "num thresholds = 901\n",
      "accuracy: 0.48\n",
      "Gini:\n",
      "Max Depth: 0, Node count: 0, Accuracy (Gini): 0.44\n",
      "Max Depth: 1, Node count: 1, Accuracy (Gini): 0.49\n",
      "Max Depth: 2, Node count: 3, Accuracy (Gini): 0.57\n",
      "Max Depth: 3, Node count: 7, Accuracy (Gini): 0.56\n",
      "Max Depth: 4, Node count: 15, Accuracy (Gini): 0.61\n",
      "Max Depth: 5, Node count: 28, Accuracy (Gini): 0.58\n",
      "Max Depth: 6, Node count: 47, Accuracy (Gini): 0.57\n",
      "Max Depth: 7, Node count: 66, Accuracy (Gini): 0.55\n",
      "Max Depth: 8, Node count: 82, Accuracy (Gini): 0.56\n",
      "Max Depth: 9, Node count: 91, Accuracy (Gini): 0.56\n"
     ]
    }
   ],
   "source": [
    "X, y = make_classification(n_samples=1000, n_features=50, n_informative=50, n_redundant=0, n_classes=2, random_state=42)\n",
    "\n",
    "# First split the data into training set and test set\n",
    "X_train, X_test, y_train, y_test = train_test_split(X, y, test_size=0.1, random_state=42)\n",
    "\n",
    "\n",
    "print(\"alg8:\")\n",
    "alg8(X_train, y_train, X_test, y_test)\n",
    "\n",
    "print(\"Gini:\")\n",
    "\n",
    "for max_depth in range(10):\n",
    "    nodes_gini, accuracy_gini = test_trees(X_train, X_test, y_train, y_test, max_depth)\n",
    "    print(f\"Max Depth: {max_depth}, Node count: {nodes_gini}, Accuracy (Gini): {accuracy_gini}\")"
   ]
  },
  {
   "cell_type": "code",
   "execution_count": null,
   "metadata": {},
   "outputs": [],
   "source": []
  },
  {
   "cell_type": "code",
   "execution_count": null,
   "metadata": {},
   "outputs": [],
   "source": []
  },
  {
   "cell_type": "code",
   "execution_count": null,
   "metadata": {},
   "outputs": [],
   "source": []
  }
 ],
 "metadata": {
  "kernelspec": {
   "display_name": "Python 3",
   "language": "python",
   "name": "python3"
  },
  "language_info": {
   "codemirror_mode": {
    "name": "ipython",
    "version": 3
   },
   "file_extension": ".py",
   "mimetype": "text/x-python",
   "name": "python",
   "nbconvert_exporter": "python",
   "pygments_lexer": "ipython3",
   "version": "3.9.6"
  }
 },
 "nbformat": 4,
 "nbformat_minor": 2
}
