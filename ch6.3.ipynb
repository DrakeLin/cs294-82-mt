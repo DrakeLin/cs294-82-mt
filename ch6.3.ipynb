{
 "cells": [
  {
   "cell_type": "code",
   "execution_count": 8,
   "metadata": {},
   "outputs": [],
   "source": [
    "import random\n",
    "import string\n",
    "import zlib"
   ]
  },
  {
   "cell_type": "markdown",
   "metadata": {},
   "source": [
    "Part A"
   ]
  },
  {
   "cell_type": "code",
   "execution_count": 10,
   "metadata": {},
   "outputs": [
    {
     "name": "stdout",
     "output_type": "stream",
     "text": [
      "Compression ratio: 0.7527\n"
     ]
    }
   ],
   "source": [
    "# Create a long random string\n",
    "random_string = ''.join(random.choices(string.ascii_letters + string.digits, k=10000))\n",
    "\n",
    "# Convert the string to bytes\n",
    "bytes_string = random_string.encode()\n",
    "\n",
    "# Compress the string\n",
    "compressed_string = zlib.compress(bytes_string)\n",
    "\n",
    "# Calculate the compression ratio\n",
    "compression_ratio = len(compressed_string) / len(bytes_string)\n",
    "\n",
    "print(f\"Compression ratio: {compression_ratio}\")"
   ]
  },
  {
   "cell_type": "markdown",
   "metadata": {},
   "source": [
    "Part B:\n",
    "\n",
    "The expected compression ratio is 1, since there should be no pattern to compress."
   ]
  },
  {
   "cell_type": "code",
   "execution_count": null,
   "metadata": {},
   "outputs": [],
   "source": []
  },
  {
   "cell_type": "code",
   "execution_count": null,
   "metadata": {},
   "outputs": [],
   "source": []
  }
 ],
 "metadata": {
  "kernelspec": {
   "display_name": "Python 3",
   "language": "python",
   "name": "python3"
  },
  "language_info": {
   "codemirror_mode": {
    "name": "ipython",
    "version": 3
   },
   "file_extension": ".py",
   "mimetype": "text/x-python",
   "name": "python",
   "nbconvert_exporter": "python",
   "pygments_lexer": "ipython3",
   "version": "3.9.6"
  }
 },
 "nbformat": 4,
 "nbformat_minor": 2
}
